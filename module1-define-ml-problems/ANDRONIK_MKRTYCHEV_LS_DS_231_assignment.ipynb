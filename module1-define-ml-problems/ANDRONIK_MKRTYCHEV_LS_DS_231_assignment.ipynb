{
  "nbformat": 4,
  "nbformat_minor": 0,
  "metadata": {
    "kernelspec": {
      "display_name": "Python 3",
      "language": "python",
      "name": "python3"
    },
    "language_info": {
      "codemirror_mode": {
        "name": "ipython",
        "version": 3
      },
      "file_extension": ".py",
      "mimetype": "text/x-python",
      "name": "python",
      "nbconvert_exporter": "python",
      "pygments_lexer": "ipython3",
      "version": "3.7.6"
    },
    "colab": {
      "name": "ANDRONIK_MKRTYCHEV_LS_DS_231_assignment.ipynb",
      "provenance": [],
      "include_colab_link": true
    }
  },
  "cells": [
    {
      "cell_type": "markdown",
      "metadata": {
        "id": "view-in-github",
        "colab_type": "text"
      },
      "source": [
        "<a href=\"https://colab.research.google.com/github/andronikmk/DS-Unit-2-Applied-Modeling/blob/master/module1-define-ml-problems/ANDRONIK_MKRTYCHEV_LS_DS_231_assignment.ipynb\" target=\"_parent\"><img src=\"https://colab.research.google.com/assets/colab-badge.svg\" alt=\"Open In Colab\"/></a>"
      ]
    },
    {
      "cell_type": "markdown",
      "metadata": {
        "colab_type": "text",
        "id": "nCc3XZEyG3XV"
      },
      "source": [
        "Lambda School Data Science\n",
        "\n",
        "*Unit 2, Sprint 3, Module 1*\n",
        "\n",
        "---\n",
        "\n",
        "\n",
        "# Define ML problems\n",
        "\n",
        "You will use your portfolio project dataset for all assignments this sprint.\n",
        "\n",
        "## Assignment\n",
        "\n",
        "Complete these tasks for your project, and document your decisions.\n",
        "\n",
        "- [x] Choose your target. Which column in your tabular dataset will you predict?\n",
        "- [x] Is your problem regression or classification?\n",
        "- [x] How is your target distributed?\n",
        "    - Classification: How many classes? Are the classes imbalanced?\n",
        "    - Regression: Is the target right-skewed? If so, you may want to log transform the target.\n",
        "- [x] Choose your evaluation metric(s).\n",
        "    - Classification: Is your majority class frequency >= 50% and < 70% ? If so, you can just use accuracy if you want. Outside that range, accuracy could be misleading. What evaluation metric will you choose, in addition to or instead of accuracy?\n",
        "    - Regression: Will you use mean absolute error, root mean squared error, R^2, or other regression metrics?\n",
        "- [x] Choose which observations you will use to train, validate, and test your model.\n",
        "    - Are some observations outliers? Will you exclude them?\n",
        "    - Will you do a random split or a time-based split?\n",
        "- [x] Begin to clean and explore your data.\n",
        "- [x] Begin to choose which features, if any, to exclude. Would some features \"leak\" future information?\n",
        "\n",
        "If you haven't found a dataset yet, do that today. [Review requirements for your portfolio project](https://lambdaschool.github.io/ds/unit2) and choose your dataset.\n",
        "\n",
        "Some students worry, ***what if my model isn't “good”?*** Then, [produce a detailed tribute to your wrongness. That is science!](https://twitter.com/nathanwpyle/status/1176860147223867393)"
      ]
    },
    {
      "cell_type": "code",
      "metadata": {
        "id": "dZlRJz47hmu1",
        "colab_type": "code",
        "colab": {}
      },
      "source": [
        "# import libraries\n",
        "import numpy as np\n",
        "import pandas as pd\n",
        "import plotly.express as px"
      ],
      "execution_count": 0,
      "outputs": []
    },
    {
      "cell_type": "code",
      "metadata": {
        "id": "ruv7kqRbE8AY",
        "colab_type": "code",
        "outputId": "be9d117f-1c93-4850-fe08-1c2192574508",
        "colab": {
          "base_uri": "https://localhost:8080/",
          "height": 240
        }
      },
      "source": [
        "# import dataframe\n",
        "df = pd.read_csv('/content/project_2_v1.csv')\n",
        "df.head()"
      ],
      "execution_count": 0,
      "outputs": [
        {
          "output_type": "execute_result",
          "data": {
            "text/html": [
              "<div>\n",
              "<style scoped>\n",
              "    .dataframe tbody tr th:only-of-type {\n",
              "        vertical-align: middle;\n",
              "    }\n",
              "\n",
              "    .dataframe tbody tr th {\n",
              "        vertical-align: top;\n",
              "    }\n",
              "\n",
              "    .dataframe thead th {\n",
              "        text-align: right;\n",
              "    }\n",
              "</style>\n",
              "<table border=\"1\" class=\"dataframe\">\n",
              "  <thead>\n",
              "    <tr style=\"text-align: right;\">\n",
              "      <th></th>\n",
              "      <th>observation_date</th>\n",
              "      <th>Population_in_the_UK_in_thousands</th>\n",
              "      <th>Current_Account_in_the_UK_in_milli_pounds</th>\n",
              "      <th>Current_Account_in_the UK__percent_of_nominal_gdp</th>\n",
              "      <th>Public_Sector_Debt_Outstanding_in_the_UK_in_milli</th>\n",
              "      <th>Nominal_GDP_at_ Market_Prices_in_the_UK_in_milli_pounds</th>\n",
              "      <th>Bank _of_England_ Policy_Rate_in_the_UK_in_percent</th>\n",
              "      <th>Real_Gross_Domestic_Product_at_Market_Prices_in_the_UK_milli_pounds</th>\n",
              "      <th>Consumer_Price_Inflation_in_the_UK_percent</th>\n",
              "      <th>Unemployment_Rate_in_the_UK_percent</th>\n",
              "      <th>US_UK_Foreign_Exchange_Rate_in_the_UK</th>\n",
              "      <th>Labor_Productivity_Real_GDP_Per_Person_in_the_ UK</th>\n",
              "      <th>Broad_Money_in_the_UK_in_milli_pounds</th>\n",
              "      <th>Average_Weekly_Hours_Worked_in_ the_UK</th>\n",
              "      <th>Employment_in_the_UK_in_thousands</th>\n",
              "      <th>Notes_and_Coin_in_Circulation_in_the_UK</th>\n",
              "      <th>Population_in_England_in_thousands</th>\n",
              "      <th>Public_Sector_Net_Lending/Borrowing_in_the_UK</th>\n",
              "      <th>Current_Account_Deficit_Including_Estimated_Non_Monetary_Bullion_Flows_in_the_UK_in_mili</th>\n",
              "    </tr>\n",
              "  </thead>\n",
              "  <tbody>\n",
              "    <tr>\n",
              "      <th>0</th>\n",
              "      <td>1700-01-01</td>\n",
              "      <td>6576</td>\n",
              "      <td>NaN</td>\n",
              "      <td>NaN</td>\n",
              "      <td>NaN</td>\n",
              "      <td>79.37</td>\n",
              "      <td>NaN</td>\n",
              "      <td>10365</td>\n",
              "      <td>-12.88</td>\n",
              "      <td>NaN</td>\n",
              "      <td>NaN</td>\n",
              "      <td>NaN</td>\n",
              "      <td>NaN</td>\n",
              "      <td>51.55</td>\n",
              "      <td>NaN</td>\n",
              "      <td>NaN</td>\n",
              "      <td>5196</td>\n",
              "      <td>1.2</td>\n",
              "      <td>NaN</td>\n",
              "    </tr>\n",
              "    <tr>\n",
              "      <th>1</th>\n",
              "      <td>1701-01-01</td>\n",
              "      <td>6613</td>\n",
              "      <td>NaN</td>\n",
              "      <td>NaN</td>\n",
              "      <td>NaN</td>\n",
              "      <td>82.29</td>\n",
              "      <td>NaN</td>\n",
              "      <td>11295</td>\n",
              "      <td>-13.04</td>\n",
              "      <td>NaN</td>\n",
              "      <td>NaN</td>\n",
              "      <td>NaN</td>\n",
              "      <td>NaN</td>\n",
              "      <td>51.59</td>\n",
              "      <td>NaN</td>\n",
              "      <td>NaN</td>\n",
              "      <td>5211</td>\n",
              "      <td>0.3</td>\n",
              "      <td>NaN</td>\n",
              "    </tr>\n",
              "    <tr>\n",
              "      <th>2</th>\n",
              "      <td>1702-01-01</td>\n",
              "      <td>6657</td>\n",
              "      <td>NaN</td>\n",
              "      <td>NaN</td>\n",
              "      <td>NaN</td>\n",
              "      <td>80.03</td>\n",
              "      <td>NaN</td>\n",
              "      <td>11004</td>\n",
              "      <td>-1.00</td>\n",
              "      <td>NaN</td>\n",
              "      <td>NaN</td>\n",
              "      <td>NaN</td>\n",
              "      <td>NaN</td>\n",
              "      <td>51.63</td>\n",
              "      <td>NaN</td>\n",
              "      <td>NaN</td>\n",
              "      <td>5131</td>\n",
              "      <td>-0.1</td>\n",
              "      <td>NaN</td>\n",
              "    </tr>\n",
              "    <tr>\n",
              "      <th>3</th>\n",
              "      <td>1703-01-01</td>\n",
              "      <td>6710</td>\n",
              "      <td>NaN</td>\n",
              "      <td>NaN</td>\n",
              "      <td>NaN</td>\n",
              "      <td>74.21</td>\n",
              "      <td>NaN</td>\n",
              "      <td>10298</td>\n",
              "      <td>-5.05</td>\n",
              "      <td>NaN</td>\n",
              "      <td>NaN</td>\n",
              "      <td>NaN</td>\n",
              "      <td>NaN</td>\n",
              "      <td>51.68</td>\n",
              "      <td>NaN</td>\n",
              "      <td>NaN</td>\n",
              "      <td>5259</td>\n",
              "      <td>0.2</td>\n",
              "      <td>NaN</td>\n",
              "    </tr>\n",
              "    <tr>\n",
              "      <th>4</th>\n",
              "      <td>1704-01-01</td>\n",
              "      <td>6740</td>\n",
              "      <td>NaN</td>\n",
              "      <td>NaN</td>\n",
              "      <td>NaN</td>\n",
              "      <td>89.95</td>\n",
              "      <td>NaN</td>\n",
              "      <td>12260</td>\n",
              "      <td>4.26</td>\n",
              "      <td>NaN</td>\n",
              "      <td>NaN</td>\n",
              "      <td>NaN</td>\n",
              "      <td>NaN</td>\n",
              "      <td>51.72</td>\n",
              "      <td>NaN</td>\n",
              "      <td>NaN</td>\n",
              "      <td>5258</td>\n",
              "      <td>-0.3</td>\n",
              "      <td>NaN</td>\n",
              "    </tr>\n",
              "  </tbody>\n",
              "</table>\n",
              "</div>"
            ],
            "text/plain": [
              "  observation_date  ...  Current_Account_Deficit_Including_Estimated_Non_Monetary_Bullion_Flows_in_the_UK_in_mili\n",
              "0       1700-01-01  ...                                                NaN                                       \n",
              "1       1701-01-01  ...                                                NaN                                       \n",
              "2       1702-01-01  ...                                                NaN                                       \n",
              "3       1703-01-01  ...                                                NaN                                       \n",
              "4       1704-01-01  ...                                                NaN                                       \n",
              "\n",
              "[5 rows x 19 columns]"
            ]
          },
          "metadata": {
            "tags": []
          },
          "execution_count": 35
        }
      ]
    },
    {
      "cell_type": "code",
      "metadata": {
        "id": "B7b2LuXmFA8M",
        "colab_type": "code",
        "outputId": "688bc38b-1ecf-4b81-eae2-bb51d295d4d3",
        "colab": {
          "base_uri": "https://localhost:8080/",
          "height": 542
        }
      },
      "source": [
        "# sample line plot 1\n",
        "px.line(df, x='observation_date', y='Current_Account_in_the_UK_in_milli_pounds')"
      ],
      "execution_count": 0,
      "outputs": [
        {
          "output_type": "display_data",
          "data": {
            "text/html": [
              "<html>\n",
              "<head><meta charset=\"utf-8\" /></head>\n",
              "<body>\n",
              "    <div>\n",
              "            <script src=\"https://cdnjs.cloudflare.com/ajax/libs/mathjax/2.7.5/MathJax.js?config=TeX-AMS-MML_SVG\"></script><script type=\"text/javascript\">if (window.MathJax) {MathJax.Hub.Config({SVG: {font: \"STIX-Web\"}});}</script>\n",
              "                <script type=\"text/javascript\">window.PlotlyConfig = {MathJaxConfig: 'local'};</script>\n",
              "        <script src=\"https://cdn.plot.ly/plotly-latest.min.js\"></script>    \n",
              "            <div id=\"977ec04a-c3ba-47df-8c3c-7bd5d806df0a\" class=\"plotly-graph-div\" style=\"height:525px; width:100%;\"></div>\n",
              "            <script type=\"text/javascript\">\n",
              "                \n",
              "                    window.PLOTLYENV=window.PLOTLYENV || {};\n",
              "                    \n",
              "                if (document.getElementById(\"977ec04a-c3ba-47df-8c3c-7bd5d806df0a\")) {\n",
              "                    Plotly.newPlot(\n",
              "                        '977ec04a-c3ba-47df-8c3c-7bd5d806df0a',\n",
              "                        [{\"hoverlabel\": {\"namelength\": 0}, \"hovertemplate\": \"observation_date=%{x}<br>Current_Account_in_the_UK_in_milli_pounds=%{y}\", \"legendgroup\": \"\", \"line\": {\"color\": \"#636efa\", \"dash\": \"solid\"}, \"mode\": \"lines\", \"name\": \"\", \"showlegend\": false, \"type\": \"scatter\", \"x\": [\"1700-01-01\", \"1701-01-01\", \"1702-01-01\", \"1703-01-01\", \"1704-01-01\", \"1705-01-01\", \"1706-01-01\", \"1707-01-01\", \"1708-01-01\", \"1709-01-01\", \"1710-01-01\", \"1711-01-01\", \"1712-01-01\", \"1713-01-01\", \"1714-01-01\", \"1715-01-01\", \"1716-01-01\", \"1717-01-01\", \"1718-01-01\", \"1719-01-01\", \"1720-01-01\", \"1721-01-01\", \"1722-01-01\", \"1723-01-01\", \"1724-01-01\", \"1725-01-01\", \"1726-01-01\", \"1727-01-01\", \"1728-01-01\", \"1729-01-01\", \"1730-01-01\", \"1731-01-01\", \"1732-01-01\", \"1733-01-01\", \"1734-01-01\", \"1735-01-01\", \"1736-01-01\", \"1737-01-01\", \"1738-01-01\", \"1739-01-01\", \"1740-01-01\", \"1741-01-01\", \"1742-01-01\", \"1743-01-01\", \"1744-01-01\", \"1745-01-01\", \"1746-01-01\", \"1747-01-01\", \"1748-01-01\", \"1749-01-01\", \"1750-01-01\", \"1751-01-01\", \"1752-01-01\", \"1753-01-01\", \"1754-01-01\", \"1755-01-01\", \"1756-01-01\", \"1757-01-01\", \"1758-01-01\", \"1759-01-01\", \"1760-01-01\", \"1761-01-01\", \"1762-01-01\", \"1763-01-01\", \"1764-01-01\", \"1765-01-01\", \"1766-01-01\", \"1767-01-01\", \"1768-01-01\", \"1769-01-01\", \"1770-01-01\", \"1771-01-01\", \"1772-01-01\", \"1773-01-01\", \"1774-01-01\", \"1775-01-01\", \"1776-01-01\", \"1777-01-01\", \"1778-01-01\", \"1779-01-01\", \"1780-01-01\", \"1781-01-01\", \"1782-01-01\", \"1783-01-01\", \"1784-01-01\", \"1785-01-01\", \"1786-01-01\", \"1787-01-01\", \"1788-01-01\", \"1789-01-01\", \"1790-01-01\", \"1791-01-01\", \"1792-01-01\", \"1793-01-01\", \"1794-01-01\", \"1795-01-01\", \"1796-01-01\", \"1797-01-01\", \"1798-01-01\", \"1799-01-01\", \"1800-01-01\", \"1801-01-01\", \"1802-01-01\", \"1803-01-01\", \"1804-01-01\", \"1805-01-01\", \"1806-01-01\", \"1807-01-01\", \"1808-01-01\", \"1809-01-01\", \"1810-01-01\", \"1811-01-01\", \"1812-01-01\", \"1813-01-01\", \"1814-01-01\", \"1815-01-01\", \"1816-01-01\", \"1817-01-01\", \"1818-01-01\", \"1819-01-01\", \"1820-01-01\", \"1821-01-01\", \"1822-01-01\", \"1823-01-01\", \"1824-01-01\", \"1825-01-01\", \"1826-01-01\", \"1827-01-01\", \"1828-01-01\", \"1829-01-01\", \"1830-01-01\", \"1831-01-01\", \"1832-01-01\", \"1833-01-01\", \"1834-01-01\", \"1835-01-01\", \"1836-01-01\", \"1837-01-01\", \"1838-01-01\", \"1839-01-01\", \"1840-01-01\", \"1841-01-01\", \"1842-01-01\", \"1843-01-01\", \"1844-01-01\", \"1845-01-01\", \"1846-01-01\", \"1847-01-01\", \"1848-01-01\", \"1849-01-01\", \"1850-01-01\", \"1851-01-01\", \"1852-01-01\", \"1853-01-01\", \"1854-01-01\", \"1855-01-01\", \"1856-01-01\", \"1857-01-01\", \"1858-01-01\", \"1859-01-01\", \"1860-01-01\", \"1861-01-01\", \"1862-01-01\", \"1863-01-01\", \"1864-01-01\", \"1865-01-01\", \"1866-01-01\", \"1867-01-01\", \"1868-01-01\", \"1869-01-01\", \"1870-01-01\", \"1871-01-01\", \"1872-01-01\", \"1873-01-01\", \"1874-01-01\", \"1875-01-01\", \"1876-01-01\", \"1877-01-01\", \"1878-01-01\", \"1879-01-01\", \"1880-01-01\", \"1881-01-01\", \"1882-01-01\", \"1883-01-01\", \"1884-01-01\", \"1885-01-01\", \"1886-01-01\", \"1887-01-01\", \"1888-01-01\", \"1889-01-01\", \"1890-01-01\", \"1891-01-01\", \"1892-01-01\", \"1893-01-01\", \"1894-01-01\", \"1895-01-01\", \"1896-01-01\", \"1897-01-01\", \"1898-01-01\", \"1899-01-01\", \"1899-12-31\", \"1901-01-01\", \"1902-01-01\", \"1903-01-01\", \"1904-01-01\", \"1905-01-01\", \"1906-01-01\", \"1907-01-01\", \"1908-01-01\", \"1909-01-01\", \"1910-01-01\", \"1911-01-01\", \"1912-01-01\", \"1913-01-01\", \"1914-01-01\", \"1915-01-01\", \"1916-01-01\", \"1917-01-01\", \"1918-01-01\", \"1919-01-01\", \"1920-01-01\", \"1921-01-01\", \"1922-01-01\", \"1923-01-01\", \"1924-01-01\", \"1925-01-01\", \"1926-01-01\", \"1927-01-01\", \"1928-01-01\", \"1929-01-01\", \"1930-01-01\", \"1931-01-01\", \"1932-01-01\", \"1933-01-01\", \"1934-01-01\", \"1935-01-01\", \"1936-01-01\", \"1937-01-01\", \"1938-01-01\", \"1939-01-01\", \"1940-01-01\", \"1941-01-01\", \"1942-01-01\", \"1943-01-01\", \"1944-01-01\", \"1945-01-01\", \"1946-01-01\", \"1947-01-01\", \"1948-01-01\", \"1949-01-01\", \"1950-01-01\", \"1951-01-01\", \"1952-01-01\", \"1953-01-01\", \"1954-01-01\", \"1955-01-01\", \"1956-01-01\", \"1957-01-01\", \"1958-01-01\", \"1959-01-01\", \"1960-01-01\", \"1961-01-01\", \"1962-01-01\", \"1963-01-01\", \"1964-01-01\", \"1965-01-01\", \"1966-01-01\", \"1967-01-01\", \"1968-01-01\", \"1969-01-01\", \"1970-01-01\", \"1971-01-01\", \"1972-01-01\", \"1973-01-01\", \"1974-01-01\", \"1975-01-01\", \"1976-01-01\", \"1977-01-01\", \"1978-01-01\", \"1979-01-01\", \"1980-01-01\", \"1981-01-01\", \"1982-01-01\", \"1983-01-01\", \"1984-01-01\", \"1985-01-01\", \"1986-01-01\", \"1987-01-01\", \"1988-01-01\", \"1989-01-01\", \"1990-01-01\", \"1991-01-01\", \"1992-01-01\", \"1993-01-01\", \"1994-01-01\", \"1995-01-01\", \"1996-01-01\", \"1997-01-01\", \"1998-01-01\", \"1999-01-01\", \"2000-01-01\", \"2001-01-01\", \"2002-01-01\", \"2003-01-01\", \"2004-01-01\", \"2005-01-01\", \"2006-01-01\", \"2007-01-01\", \"2008-01-01\", \"2009-01-01\", \"2010-01-01\", \"2011-01-01\", \"2012-01-01\", \"2013-01-01\", \"2014-01-01\", \"2015-01-01\", \"2016-01-01\"], \"xaxis\": \"x\", \"y\": [null, null, null, null, null, null, null, null, null, null, null, null, null, null, null, null, null, null, null, null, null, null, null, null, null, null, null, null, null, null, null, null, null, null, null, null, null, null, null, null, null, null, null, null, null, null, null, null, null, null, null, null, null, null, null, null, null, null, null, null, null, null, null, null, null, null, null, null, null, null, null, null, null, null, null, null, null, null, null, null, null, null, null, null, null, null, null, null, null, null, null, null, null, null, null, null, null, null, null, null, null, null, null, null, null, null, null, null, null, null, null, null, null, null, null, null, null, null, null, null, null, null, null, null, null, null, null, null, null, null, null, null, null, null, null, null, null, null, null, null, null, null, null, null, null, null, null, null, null, null, null, null, null, null, null, null, null, null, null, null, null, null, null, null, null, null, null, null, null, null, null, null, null, null, null, null, null, null, null, null, null, null, null, null, null, null, null, null, null, null, null, null, null, null, null, null, null, null, null, null, null, null, null, null, null, null, null, null, null, null, null, null, null, null, null, null, null, null, null, null, null, null, null, null, null, null, null, null, null, null, null, null, null, null, null, null, null, null, null, null, null, null, null, null, -747.0, -865.0, -375.0, -555.0, -216.0, -181.0, -59.0, -661.0, -151.0, -124.0, -99.0, -277.0, 69.0, 81.0, 139.0, -13.0, -382.0, -112.0, -75.0, -141.0, -610.0, -358.0, -105.0, -495.0, -437.0, 99.0, 349.0, 722.0, -126.0, -1793.0, -4099.0, -1715.0, -1264.0, 1197.0, 2422.0, 955.0, 5407.0, 7602.0, 5689.0, 3299.0, 131.0, 4488.0, -2090.0, -3483.0, -15094.0, -18323.0, -11117.0, -2550.0, -4847.0, -2658.0, -185.0, 2394.0, 1604.0, 3828.0, -7910.0, -16169.0, -20439.0, -26108.0, -32945.0, -30386.0, -35397.0, -36502.0, -36113.0, -39942.0, -46189.0, -34355.0, -42593.0, -27060.0, -37334.0, -39238.0, -36223.0, -29788.0, -37026.0], \"yaxis\": \"y\"}],\n",
              "                        {\"legend\": {\"tracegroupgap\": 0}, \"margin\": {\"t\": 60}, \"template\": {\"data\": {\"bar\": [{\"error_x\": {\"color\": \"#2a3f5f\"}, \"error_y\": {\"color\": \"#2a3f5f\"}, \"marker\": {\"line\": {\"color\": \"#E5ECF6\", \"width\": 0.5}}, \"type\": \"bar\"}], \"barpolar\": [{\"marker\": {\"line\": {\"color\": \"#E5ECF6\", \"width\": 0.5}}, \"type\": \"barpolar\"}], \"carpet\": [{\"aaxis\": {\"endlinecolor\": \"#2a3f5f\", \"gridcolor\": \"white\", \"linecolor\": \"white\", \"minorgridcolor\": \"white\", \"startlinecolor\": \"#2a3f5f\"}, \"baxis\": {\"endlinecolor\": \"#2a3f5f\", \"gridcolor\": \"white\", \"linecolor\": \"white\", \"minorgridcolor\": \"white\", \"startlinecolor\": \"#2a3f5f\"}, \"type\": \"carpet\"}], \"choropleth\": [{\"colorbar\": {\"outlinewidth\": 0, \"ticks\": \"\"}, \"type\": \"choropleth\"}], \"contour\": [{\"colorbar\": {\"outlinewidth\": 0, \"ticks\": \"\"}, \"colorscale\": [[0.0, \"#0d0887\"], [0.1111111111111111, \"#46039f\"], [0.2222222222222222, \"#7201a8\"], [0.3333333333333333, \"#9c179e\"], [0.4444444444444444, \"#bd3786\"], [0.5555555555555556, \"#d8576b\"], [0.6666666666666666, \"#ed7953\"], [0.7777777777777778, \"#fb9f3a\"], [0.8888888888888888, \"#fdca26\"], [1.0, \"#f0f921\"]], \"type\": \"contour\"}], \"contourcarpet\": [{\"colorbar\": {\"outlinewidth\": 0, \"ticks\": \"\"}, \"type\": \"contourcarpet\"}], \"heatmap\": [{\"colorbar\": {\"outlinewidth\": 0, \"ticks\": \"\"}, \"colorscale\": [[0.0, \"#0d0887\"], [0.1111111111111111, \"#46039f\"], [0.2222222222222222, \"#7201a8\"], [0.3333333333333333, \"#9c179e\"], [0.4444444444444444, \"#bd3786\"], [0.5555555555555556, \"#d8576b\"], [0.6666666666666666, \"#ed7953\"], [0.7777777777777778, \"#fb9f3a\"], [0.8888888888888888, \"#fdca26\"], [1.0, \"#f0f921\"]], \"type\": \"heatmap\"}], \"heatmapgl\": [{\"colorbar\": {\"outlinewidth\": 0, \"ticks\": \"\"}, \"colorscale\": [[0.0, \"#0d0887\"], [0.1111111111111111, \"#46039f\"], [0.2222222222222222, \"#7201a8\"], [0.3333333333333333, \"#9c179e\"], [0.4444444444444444, \"#bd3786\"], [0.5555555555555556, \"#d8576b\"], [0.6666666666666666, \"#ed7953\"], [0.7777777777777778, \"#fb9f3a\"], [0.8888888888888888, \"#fdca26\"], [1.0, \"#f0f921\"]], \"type\": \"heatmapgl\"}], \"histogram\": [{\"marker\": {\"colorbar\": {\"outlinewidth\": 0, \"ticks\": \"\"}}, \"type\": \"histogram\"}], \"histogram2d\": [{\"colorbar\": {\"outlinewidth\": 0, \"ticks\": \"\"}, \"colorscale\": [[0.0, \"#0d0887\"], [0.1111111111111111, \"#46039f\"], [0.2222222222222222, \"#7201a8\"], [0.3333333333333333, \"#9c179e\"], [0.4444444444444444, \"#bd3786\"], [0.5555555555555556, \"#d8576b\"], [0.6666666666666666, \"#ed7953\"], [0.7777777777777778, \"#fb9f3a\"], [0.8888888888888888, \"#fdca26\"], [1.0, \"#f0f921\"]], \"type\": \"histogram2d\"}], \"histogram2dcontour\": [{\"colorbar\": {\"outlinewidth\": 0, \"ticks\": \"\"}, \"colorscale\": [[0.0, \"#0d0887\"], [0.1111111111111111, \"#46039f\"], [0.2222222222222222, \"#7201a8\"], [0.3333333333333333, \"#9c179e\"], [0.4444444444444444, \"#bd3786\"], [0.5555555555555556, \"#d8576b\"], [0.6666666666666666, \"#ed7953\"], [0.7777777777777778, \"#fb9f3a\"], [0.8888888888888888, \"#fdca26\"], [1.0, \"#f0f921\"]], \"type\": \"histogram2dcontour\"}], \"mesh3d\": [{\"colorbar\": {\"outlinewidth\": 0, \"ticks\": \"\"}, \"type\": \"mesh3d\"}], \"parcoords\": [{\"line\": {\"colorbar\": {\"outlinewidth\": 0, \"ticks\": \"\"}}, \"type\": \"parcoords\"}], \"pie\": [{\"automargin\": true, \"type\": \"pie\"}], \"scatter\": [{\"marker\": {\"colorbar\": {\"outlinewidth\": 0, \"ticks\": \"\"}}, \"type\": \"scatter\"}], \"scatter3d\": [{\"line\": {\"colorbar\": {\"outlinewidth\": 0, \"ticks\": \"\"}}, \"marker\": {\"colorbar\": {\"outlinewidth\": 0, \"ticks\": \"\"}}, \"type\": \"scatter3d\"}], \"scattercarpet\": [{\"marker\": {\"colorbar\": {\"outlinewidth\": 0, \"ticks\": \"\"}}, \"type\": \"scattercarpet\"}], \"scattergeo\": [{\"marker\": {\"colorbar\": {\"outlinewidth\": 0, \"ticks\": \"\"}}, \"type\": \"scattergeo\"}], \"scattergl\": [{\"marker\": {\"colorbar\": {\"outlinewidth\": 0, \"ticks\": \"\"}}, \"type\": \"scattergl\"}], \"scattermapbox\": [{\"marker\": {\"colorbar\": {\"outlinewidth\": 0, \"ticks\": \"\"}}, \"type\": \"scattermapbox\"}], \"scatterpolar\": [{\"marker\": {\"colorbar\": {\"outlinewidth\": 0, \"ticks\": \"\"}}, \"type\": \"scatterpolar\"}], \"scatterpolargl\": [{\"marker\": {\"colorbar\": {\"outlinewidth\": 0, \"ticks\": \"\"}}, \"type\": \"scatterpolargl\"}], \"scatterternary\": [{\"marker\": {\"colorbar\": {\"outlinewidth\": 0, \"ticks\": \"\"}}, \"type\": \"scatterternary\"}], \"surface\": [{\"colorbar\": {\"outlinewidth\": 0, \"ticks\": \"\"}, \"colorscale\": [[0.0, \"#0d0887\"], [0.1111111111111111, \"#46039f\"], [0.2222222222222222, \"#7201a8\"], [0.3333333333333333, \"#9c179e\"], [0.4444444444444444, \"#bd3786\"], [0.5555555555555556, \"#d8576b\"], [0.6666666666666666, \"#ed7953\"], [0.7777777777777778, \"#fb9f3a\"], [0.8888888888888888, \"#fdca26\"], [1.0, \"#f0f921\"]], \"type\": \"surface\"}], \"table\": [{\"cells\": {\"fill\": {\"color\": \"#EBF0F8\"}, \"line\": {\"color\": \"white\"}}, \"header\": {\"fill\": {\"color\": \"#C8D4E3\"}, \"line\": {\"color\": \"white\"}}, \"type\": \"table\"}]}, \"layout\": {\"annotationdefaults\": {\"arrowcolor\": \"#2a3f5f\", \"arrowhead\": 0, \"arrowwidth\": 1}, \"coloraxis\": {\"colorbar\": {\"outlinewidth\": 0, \"ticks\": \"\"}}, \"colorscale\": {\"diverging\": [[0, \"#8e0152\"], [0.1, \"#c51b7d\"], [0.2, \"#de77ae\"], [0.3, \"#f1b6da\"], [0.4, \"#fde0ef\"], [0.5, \"#f7f7f7\"], [0.6, \"#e6f5d0\"], [0.7, \"#b8e186\"], [0.8, \"#7fbc41\"], [0.9, \"#4d9221\"], [1, \"#276419\"]], \"sequential\": [[0.0, \"#0d0887\"], [0.1111111111111111, \"#46039f\"], [0.2222222222222222, \"#7201a8\"], [0.3333333333333333, \"#9c179e\"], [0.4444444444444444, \"#bd3786\"], [0.5555555555555556, \"#d8576b\"], [0.6666666666666666, \"#ed7953\"], [0.7777777777777778, \"#fb9f3a\"], [0.8888888888888888, \"#fdca26\"], [1.0, \"#f0f921\"]], \"sequentialminus\": [[0.0, \"#0d0887\"], [0.1111111111111111, \"#46039f\"], [0.2222222222222222, \"#7201a8\"], [0.3333333333333333, \"#9c179e\"], [0.4444444444444444, \"#bd3786\"], [0.5555555555555556, \"#d8576b\"], [0.6666666666666666, \"#ed7953\"], [0.7777777777777778, \"#fb9f3a\"], [0.8888888888888888, \"#fdca26\"], [1.0, \"#f0f921\"]]}, \"colorway\": [\"#636efa\", \"#EF553B\", \"#00cc96\", \"#ab63fa\", \"#FFA15A\", \"#19d3f3\", \"#FF6692\", \"#B6E880\", \"#FF97FF\", \"#FECB52\"], \"font\": {\"color\": \"#2a3f5f\"}, \"geo\": {\"bgcolor\": \"white\", \"lakecolor\": \"white\", \"landcolor\": \"#E5ECF6\", \"showlakes\": true, \"showland\": true, \"subunitcolor\": \"white\"}, \"hoverlabel\": {\"align\": \"left\"}, \"hovermode\": \"closest\", \"mapbox\": {\"style\": \"light\"}, \"paper_bgcolor\": \"white\", \"plot_bgcolor\": \"#E5ECF6\", \"polar\": {\"angularaxis\": {\"gridcolor\": \"white\", \"linecolor\": \"white\", \"ticks\": \"\"}, \"bgcolor\": \"#E5ECF6\", \"radialaxis\": {\"gridcolor\": \"white\", \"linecolor\": \"white\", \"ticks\": \"\"}}, \"scene\": {\"xaxis\": {\"backgroundcolor\": \"#E5ECF6\", \"gridcolor\": \"white\", \"gridwidth\": 2, \"linecolor\": \"white\", \"showbackground\": true, \"ticks\": \"\", \"zerolinecolor\": \"white\"}, \"yaxis\": {\"backgroundcolor\": \"#E5ECF6\", \"gridcolor\": \"white\", \"gridwidth\": 2, \"linecolor\": \"white\", \"showbackground\": true, \"ticks\": \"\", \"zerolinecolor\": \"white\"}, \"zaxis\": {\"backgroundcolor\": \"#E5ECF6\", \"gridcolor\": \"white\", \"gridwidth\": 2, \"linecolor\": \"white\", \"showbackground\": true, \"ticks\": \"\", \"zerolinecolor\": \"white\"}}, \"shapedefaults\": {\"line\": {\"color\": \"#2a3f5f\"}}, \"ternary\": {\"aaxis\": {\"gridcolor\": \"white\", \"linecolor\": \"white\", \"ticks\": \"\"}, \"baxis\": {\"gridcolor\": \"white\", \"linecolor\": \"white\", \"ticks\": \"\"}, \"bgcolor\": \"#E5ECF6\", \"caxis\": {\"gridcolor\": \"white\", \"linecolor\": \"white\", \"ticks\": \"\"}}, \"title\": {\"x\": 0.05}, \"xaxis\": {\"automargin\": true, \"gridcolor\": \"white\", \"linecolor\": \"white\", \"ticks\": \"\", \"title\": {\"standoff\": 15}, \"zerolinecolor\": \"white\", \"zerolinewidth\": 2}, \"yaxis\": {\"automargin\": true, \"gridcolor\": \"white\", \"linecolor\": \"white\", \"ticks\": \"\", \"title\": {\"standoff\": 15}, \"zerolinecolor\": \"white\", \"zerolinewidth\": 2}}}, \"xaxis\": {\"anchor\": \"y\", \"domain\": [0.0, 1.0], \"title\": {\"text\": \"observation_date\"}}, \"yaxis\": {\"anchor\": \"x\", \"domain\": [0.0, 1.0], \"title\": {\"text\": \"Current_Account_in_the_UK_in_milli_pounds\"}}},\n",
              "                        {\"responsive\": true}\n",
              "                    ).then(function(){\n",
              "                            \n",
              "var gd = document.getElementById('977ec04a-c3ba-47df-8c3c-7bd5d806df0a');\n",
              "var x = new MutationObserver(function (mutations, observer) {{\n",
              "        var display = window.getComputedStyle(gd).display;\n",
              "        if (!display || display === 'none') {{\n",
              "            console.log([gd, 'removed!']);\n",
              "            Plotly.purge(gd);\n",
              "            observer.disconnect();\n",
              "        }}\n",
              "}});\n",
              "\n",
              "// Listen for the removal of the full notebook cells\n",
              "var notebookContainer = gd.closest('#notebook-container');\n",
              "if (notebookContainer) {{\n",
              "    x.observe(notebookContainer, {childList: true});\n",
              "}}\n",
              "\n",
              "// Listen for the clearing of the current output cell\n",
              "var outputEl = gd.closest('.output');\n",
              "if (outputEl) {{\n",
              "    x.observe(outputEl, {childList: true});\n",
              "}}\n",
              "\n",
              "                        })\n",
              "                };\n",
              "                \n",
              "            </script>\n",
              "        </div>\n",
              "</body>\n",
              "</html>"
            ]
          },
          "metadata": {
            "tags": []
          }
        }
      ]
    },
    {
      "cell_type": "code",
      "metadata": {
        "id": "GZygF1oeFUV4",
        "colab_type": "code",
        "outputId": "45850bcd-2b10-4d2b-97a5-a5be454d1171",
        "colab": {
          "base_uri": "https://localhost:8080/",
          "height": 542
        }
      },
      "source": [
        "# sample line plot 2\n",
        "fig = px.line(df, x='observation_date', y=df['Population_in_the_UK_in_thousands']*1000)\n",
        "fig.show()"
      ],
      "execution_count": 0,
      "outputs": [
        {
          "output_type": "display_data",
          "data": {
            "text/html": [
              "<html>\n",
              "<head><meta charset=\"utf-8\" /></head>\n",
              "<body>\n",
              "    <div>\n",
              "            <script src=\"https://cdnjs.cloudflare.com/ajax/libs/mathjax/2.7.5/MathJax.js?config=TeX-AMS-MML_SVG\"></script><script type=\"text/javascript\">if (window.MathJax) {MathJax.Hub.Config({SVG: {font: \"STIX-Web\"}});}</script>\n",
              "                <script type=\"text/javascript\">window.PlotlyConfig = {MathJaxConfig: 'local'};</script>\n",
              "        <script src=\"https://cdn.plot.ly/plotly-latest.min.js\"></script>    \n",
              "            <div id=\"205bc12e-91cd-450e-a5b5-97cb2feb103b\" class=\"plotly-graph-div\" style=\"height:525px; width:100%;\"></div>\n",
              "            <script type=\"text/javascript\">\n",
              "                \n",
              "                    window.PLOTLYENV=window.PLOTLYENV || {};\n",
              "                    \n",
              "                if (document.getElementById(\"205bc12e-91cd-450e-a5b5-97cb2feb103b\")) {\n",
              "                    Plotly.newPlot(\n",
              "                        '205bc12e-91cd-450e-a5b5-97cb2feb103b',\n",
              "                        [{\"hoverlabel\": {\"namelength\": 0}, \"hovertemplate\": \"observation_date=%{x}<br>y=%{y}\", \"legendgroup\": \"\", \"line\": {\"color\": \"#636efa\", \"dash\": \"solid\"}, \"mode\": \"lines\", \"name\": \"\", \"showlegend\": false, \"type\": \"scatter\", \"x\": [\"1700-01-01\", \"1701-01-01\", \"1702-01-01\", \"1703-01-01\", \"1704-01-01\", \"1705-01-01\", \"1706-01-01\", \"1707-01-01\", \"1708-01-01\", \"1709-01-01\", \"1710-01-01\", \"1711-01-01\", \"1712-01-01\", \"1713-01-01\", \"1714-01-01\", \"1715-01-01\", \"1716-01-01\", \"1717-01-01\", \"1718-01-01\", \"1719-01-01\", \"1720-01-01\", \"1721-01-01\", \"1722-01-01\", \"1723-01-01\", \"1724-01-01\", \"1725-01-01\", \"1726-01-01\", \"1727-01-01\", \"1728-01-01\", \"1729-01-01\", \"1730-01-01\", \"1731-01-01\", \"1732-01-01\", \"1733-01-01\", \"1734-01-01\", \"1735-01-01\", \"1736-01-01\", \"1737-01-01\", \"1738-01-01\", \"1739-01-01\", \"1740-01-01\", \"1741-01-01\", \"1742-01-01\", \"1743-01-01\", \"1744-01-01\", \"1745-01-01\", \"1746-01-01\", \"1747-01-01\", \"1748-01-01\", \"1749-01-01\", \"1750-01-01\", \"1751-01-01\", \"1752-01-01\", \"1753-01-01\", \"1754-01-01\", \"1755-01-01\", \"1756-01-01\", \"1757-01-01\", \"1758-01-01\", \"1759-01-01\", \"1760-01-01\", \"1761-01-01\", \"1762-01-01\", \"1763-01-01\", \"1764-01-01\", \"1765-01-01\", \"1766-01-01\", \"1767-01-01\", \"1768-01-01\", \"1769-01-01\", \"1770-01-01\", \"1771-01-01\", \"1772-01-01\", \"1773-01-01\", \"1774-01-01\", \"1775-01-01\", \"1776-01-01\", \"1777-01-01\", \"1778-01-01\", \"1779-01-01\", \"1780-01-01\", \"1781-01-01\", \"1782-01-01\", \"1783-01-01\", \"1784-01-01\", \"1785-01-01\", \"1786-01-01\", \"1787-01-01\", \"1788-01-01\", \"1789-01-01\", \"1790-01-01\", \"1791-01-01\", \"1792-01-01\", \"1793-01-01\", \"1794-01-01\", \"1795-01-01\", \"1796-01-01\", \"1797-01-01\", \"1798-01-01\", \"1799-01-01\", \"1800-01-01\", \"1801-01-01\", \"1802-01-01\", \"1803-01-01\", \"1804-01-01\", \"1805-01-01\", \"1806-01-01\", \"1807-01-01\", \"1808-01-01\", \"1809-01-01\", \"1810-01-01\", \"1811-01-01\", \"1812-01-01\", \"1813-01-01\", \"1814-01-01\", \"1815-01-01\", \"1816-01-01\", \"1817-01-01\", \"1818-01-01\", \"1819-01-01\", \"1820-01-01\", \"1821-01-01\", \"1822-01-01\", \"1823-01-01\", \"1824-01-01\", \"1825-01-01\", \"1826-01-01\", \"1827-01-01\", \"1828-01-01\", \"1829-01-01\", \"1830-01-01\", \"1831-01-01\", \"1832-01-01\", \"1833-01-01\", \"1834-01-01\", \"1835-01-01\", \"1836-01-01\", \"1837-01-01\", \"1838-01-01\", \"1839-01-01\", \"1840-01-01\", \"1841-01-01\", \"1842-01-01\", \"1843-01-01\", \"1844-01-01\", \"1845-01-01\", \"1846-01-01\", \"1847-01-01\", \"1848-01-01\", \"1849-01-01\", \"1850-01-01\", \"1851-01-01\", \"1852-01-01\", \"1853-01-01\", \"1854-01-01\", \"1855-01-01\", \"1856-01-01\", \"1857-01-01\", \"1858-01-01\", \"1859-01-01\", \"1860-01-01\", \"1861-01-01\", \"1862-01-01\", \"1863-01-01\", \"1864-01-01\", \"1865-01-01\", \"1866-01-01\", \"1867-01-01\", \"1868-01-01\", \"1869-01-01\", \"1870-01-01\", \"1871-01-01\", \"1872-01-01\", \"1873-01-01\", \"1874-01-01\", \"1875-01-01\", \"1876-01-01\", \"1877-01-01\", \"1878-01-01\", \"1879-01-01\", \"1880-01-01\", \"1881-01-01\", \"1882-01-01\", \"1883-01-01\", \"1884-01-01\", \"1885-01-01\", \"1886-01-01\", \"1887-01-01\", \"1888-01-01\", \"1889-01-01\", \"1890-01-01\", \"1891-01-01\", \"1892-01-01\", \"1893-01-01\", \"1894-01-01\", \"1895-01-01\", \"1896-01-01\", \"1897-01-01\", \"1898-01-01\", \"1899-01-01\", \"1899-12-31\", \"1901-01-01\", \"1902-01-01\", \"1903-01-01\", \"1904-01-01\", \"1905-01-01\", \"1906-01-01\", \"1907-01-01\", \"1908-01-01\", \"1909-01-01\", \"1910-01-01\", \"1911-01-01\", \"1912-01-01\", \"1913-01-01\", \"1914-01-01\", \"1915-01-01\", \"1916-01-01\", \"1917-01-01\", \"1918-01-01\", \"1919-01-01\", \"1920-01-01\", \"1921-01-01\", \"1922-01-01\", \"1923-01-01\", \"1924-01-01\", \"1925-01-01\", \"1926-01-01\", \"1927-01-01\", \"1928-01-01\", \"1929-01-01\", \"1930-01-01\", \"1931-01-01\", \"1932-01-01\", \"1933-01-01\", \"1934-01-01\", \"1935-01-01\", \"1936-01-01\", \"1937-01-01\", \"1938-01-01\", \"1939-01-01\", \"1940-01-01\", \"1941-01-01\", \"1942-01-01\", \"1943-01-01\", \"1944-01-01\", \"1945-01-01\", \"1946-01-01\", \"1947-01-01\", \"1948-01-01\", \"1949-01-01\", \"1950-01-01\", \"1951-01-01\", \"1952-01-01\", \"1953-01-01\", \"1954-01-01\", \"1955-01-01\", \"1956-01-01\", \"1957-01-01\", \"1958-01-01\", \"1959-01-01\", \"1960-01-01\", \"1961-01-01\", \"1962-01-01\", \"1963-01-01\", \"1964-01-01\", \"1965-01-01\", \"1966-01-01\", \"1967-01-01\", \"1968-01-01\", \"1969-01-01\", \"1970-01-01\", \"1971-01-01\", \"1972-01-01\", \"1973-01-01\", \"1974-01-01\", \"1975-01-01\", \"1976-01-01\", \"1977-01-01\", \"1978-01-01\", \"1979-01-01\", \"1980-01-01\", \"1981-01-01\", \"1982-01-01\", \"1983-01-01\", \"1984-01-01\", \"1985-01-01\", \"1986-01-01\", \"1987-01-01\", \"1988-01-01\", \"1989-01-01\", \"1990-01-01\", \"1991-01-01\", \"1992-01-01\", \"1993-01-01\", \"1994-01-01\", \"1995-01-01\", \"1996-01-01\", \"1997-01-01\", \"1998-01-01\", \"1999-01-01\", \"2000-01-01\", \"2001-01-01\", \"2002-01-01\", \"2003-01-01\", \"2004-01-01\", \"2005-01-01\", \"2006-01-01\", \"2007-01-01\", \"2008-01-01\", \"2009-01-01\", \"2010-01-01\", \"2011-01-01\", \"2012-01-01\", \"2013-01-01\", \"2014-01-01\", \"2015-01-01\", \"2016-01-01\"], \"xaxis\": \"x\", \"y\": [6576000, 6613000, 6657000, 6710000, 6740000, 6754000, 6774000, 6804000, 6834000, 6857000, 6883000, 6884000, 6880000, 6894000, 6921000, 6931000, 6974000, 7022000, 7070000, 7118000, 7099000, 7095000, 7105000, 7133000, 7160000, 7189000, 7246000, 7285000, 7218000, 7109000, 7028000, 7022000, 7050000, 7081000, 7145000, 7201000, 7250000, 7287000, 7314000, 7354000, 7387000, 7400000, 7323000, 7317000, 7360000, 7434000, 7479000, 7512000, 7531000, 7578000, 7639000, 7696000, 7754000, 7821000, 7880000, 7937000, 8004000, 8043000, 8070000, 8104000, 8157000, 8218000, 8255000, 8246000, 8292000, 8361000, 8404000, 8432000, 8461000, 8522000, 8586000, 8645000, 8715000, 8787000, 8855000, 8951000, 9040000, 9131000, 9230000, 9320000, 9376000, 9483000, 9561000, 9590000, 9685000, 9781000, 9889000, 10009000, 10116000, 10253000, 10374000, 10507000, 10632000, 10749000, 10850000, 10978000, 11094000, 11243000, 11377000, 11515000, 11596000, 11684000, 11788000, 11929000, 12097000, 12280000, 12461000, 12636000, 12805000, 12976000, 13145000, 13321000, 13525000, 13742000, 13959000, 14191000, 14430000, 14660000, 14886000, 15104000, 15335000, 15586000, 15844000, 16098000, 16335000, 16562000, 16780000, 16999000, 17238000, 17473000, 17703000, 17941000, 18143000, 18338000, 18562000, 18798000, 19035000, 19244000, 19460000, 19720000, 19971000, 20198000, 20410000, 20624000, 20836000, 21050000, 21264000, 21478000, 21693000, 21908000, 22123000, 22338000, 22564000, 22789000, 23015000, 23241000, 23466000, 23689000, 23914000, 24138000, 24360000, 24585000, 24862000, 25142000, 25425000, 25712000, 26003000, 26296000, 26594000, 26896000, 27201000, 27516000, 27855000, 28198000, 28545000, 28897000, 29254000, 29616000, 29983000, 30354000, 30731000, 31094000, 31403000, 31717000, 32033000, 32353000, 32677000, 33005000, 33336000, 33670000, 34009000, 34358000, 34736000, 35119000, 35506000, 35898000, 36294000, 36694000, 37099000, 37509000, 37923000, 38328000, 38696000, 39068000, 39444000, 39823000, 40206000, 40593000, 40984000, 41380000, 41767000, 42132000, 42341000, 42604000, 43017000, 43279000, 43453000, 43556000, 43516000, 43441000, 43729000, 43965000, 44394000, 44628000, 44935000, 45085000, 45265000, 45429000, 45626000, 45730000, 45891000, 46074000, 46335000, 46520000, 46666000, 46869000, 47081000, 47289000, 47494000, 47762000, 48226000, 48216000, 48400000, 48789000, 49016000, 49182000, 49217000, 49539000, 50033000, 50331000, 50572000, 50302000, 50444000, 50593000, 50765000, 50946000, 51184000, 51431000, 51653000, 51956000, 52373000, 52807000, 53290000, 53624000, 53991000, 54350000, 54645000, 54961000, 55213000, 55459000, 55629000, 55928000, 56097000, 56223000, 56236000, 56226000, 56216000, 56190000, 56178000, 56240000, 56330000, 56358000, 56291000, 56316000, 56409000, 56554000, 56684000, 56804000, 56916000, 57076000, 57237000, 57439000, 57585000, 57714000, 57862000, 58025000, 58164000, 58314000, 58475000, 58684000, 58886000, 59113000, 59366000, 59637000, 59950000, 60413000, 60827000, 61319000, 61824000, 62260000, 62759000, 63285000, 63705000, 64106000, 64597000, 65110000, 65573000], \"yaxis\": \"y\"}],\n",
              "                        {\"legend\": {\"tracegroupgap\": 0}, \"margin\": {\"t\": 60}, \"template\": {\"data\": {\"bar\": [{\"error_x\": {\"color\": \"#2a3f5f\"}, \"error_y\": {\"color\": \"#2a3f5f\"}, \"marker\": {\"line\": {\"color\": \"#E5ECF6\", \"width\": 0.5}}, \"type\": \"bar\"}], \"barpolar\": [{\"marker\": {\"line\": {\"color\": \"#E5ECF6\", \"width\": 0.5}}, \"type\": \"barpolar\"}], \"carpet\": [{\"aaxis\": {\"endlinecolor\": \"#2a3f5f\", \"gridcolor\": \"white\", \"linecolor\": \"white\", \"minorgridcolor\": \"white\", \"startlinecolor\": \"#2a3f5f\"}, \"baxis\": {\"endlinecolor\": \"#2a3f5f\", \"gridcolor\": \"white\", \"linecolor\": \"white\", \"minorgridcolor\": \"white\", \"startlinecolor\": \"#2a3f5f\"}, \"type\": \"carpet\"}], \"choropleth\": [{\"colorbar\": {\"outlinewidth\": 0, \"ticks\": \"\"}, \"type\": \"choropleth\"}], \"contour\": [{\"colorbar\": {\"outlinewidth\": 0, \"ticks\": \"\"}, \"colorscale\": [[0.0, \"#0d0887\"], [0.1111111111111111, \"#46039f\"], [0.2222222222222222, \"#7201a8\"], [0.3333333333333333, \"#9c179e\"], [0.4444444444444444, \"#bd3786\"], [0.5555555555555556, \"#d8576b\"], [0.6666666666666666, \"#ed7953\"], [0.7777777777777778, \"#fb9f3a\"], [0.8888888888888888, \"#fdca26\"], [1.0, \"#f0f921\"]], \"type\": \"contour\"}], \"contourcarpet\": [{\"colorbar\": {\"outlinewidth\": 0, \"ticks\": \"\"}, \"type\": \"contourcarpet\"}], \"heatmap\": [{\"colorbar\": {\"outlinewidth\": 0, \"ticks\": \"\"}, \"colorscale\": [[0.0, \"#0d0887\"], [0.1111111111111111, \"#46039f\"], [0.2222222222222222, \"#7201a8\"], [0.3333333333333333, \"#9c179e\"], [0.4444444444444444, \"#bd3786\"], [0.5555555555555556, \"#d8576b\"], [0.6666666666666666, \"#ed7953\"], [0.7777777777777778, \"#fb9f3a\"], [0.8888888888888888, \"#fdca26\"], [1.0, \"#f0f921\"]], \"type\": \"heatmap\"}], \"heatmapgl\": [{\"colorbar\": {\"outlinewidth\": 0, \"ticks\": \"\"}, \"colorscale\": [[0.0, \"#0d0887\"], [0.1111111111111111, \"#46039f\"], [0.2222222222222222, \"#7201a8\"], [0.3333333333333333, \"#9c179e\"], [0.4444444444444444, \"#bd3786\"], [0.5555555555555556, \"#d8576b\"], [0.6666666666666666, \"#ed7953\"], [0.7777777777777778, \"#fb9f3a\"], [0.8888888888888888, \"#fdca26\"], [1.0, \"#f0f921\"]], \"type\": \"heatmapgl\"}], \"histogram\": [{\"marker\": {\"colorbar\": {\"outlinewidth\": 0, \"ticks\": \"\"}}, \"type\": \"histogram\"}], \"histogram2d\": [{\"colorbar\": {\"outlinewidth\": 0, \"ticks\": \"\"}, \"colorscale\": [[0.0, \"#0d0887\"], [0.1111111111111111, \"#46039f\"], [0.2222222222222222, \"#7201a8\"], [0.3333333333333333, \"#9c179e\"], [0.4444444444444444, \"#bd3786\"], [0.5555555555555556, \"#d8576b\"], [0.6666666666666666, \"#ed7953\"], [0.7777777777777778, \"#fb9f3a\"], [0.8888888888888888, \"#fdca26\"], [1.0, \"#f0f921\"]], \"type\": \"histogram2d\"}], \"histogram2dcontour\": [{\"colorbar\": {\"outlinewidth\": 0, \"ticks\": \"\"}, \"colorscale\": [[0.0, \"#0d0887\"], [0.1111111111111111, \"#46039f\"], [0.2222222222222222, \"#7201a8\"], [0.3333333333333333, \"#9c179e\"], [0.4444444444444444, \"#bd3786\"], [0.5555555555555556, \"#d8576b\"], [0.6666666666666666, \"#ed7953\"], [0.7777777777777778, \"#fb9f3a\"], [0.8888888888888888, \"#fdca26\"], [1.0, \"#f0f921\"]], \"type\": \"histogram2dcontour\"}], \"mesh3d\": [{\"colorbar\": {\"outlinewidth\": 0, \"ticks\": \"\"}, \"type\": \"mesh3d\"}], \"parcoords\": [{\"line\": {\"colorbar\": {\"outlinewidth\": 0, \"ticks\": \"\"}}, \"type\": \"parcoords\"}], \"pie\": [{\"automargin\": true, \"type\": \"pie\"}], \"scatter\": [{\"marker\": {\"colorbar\": {\"outlinewidth\": 0, \"ticks\": \"\"}}, \"type\": \"scatter\"}], \"scatter3d\": [{\"line\": {\"colorbar\": {\"outlinewidth\": 0, \"ticks\": \"\"}}, \"marker\": {\"colorbar\": {\"outlinewidth\": 0, \"ticks\": \"\"}}, \"type\": \"scatter3d\"}], \"scattercarpet\": [{\"marker\": {\"colorbar\": {\"outlinewidth\": 0, \"ticks\": \"\"}}, \"type\": \"scattercarpet\"}], \"scattergeo\": [{\"marker\": {\"colorbar\": {\"outlinewidth\": 0, \"ticks\": \"\"}}, \"type\": \"scattergeo\"}], \"scattergl\": [{\"marker\": {\"colorbar\": {\"outlinewidth\": 0, \"ticks\": \"\"}}, \"type\": \"scattergl\"}], \"scattermapbox\": [{\"marker\": {\"colorbar\": {\"outlinewidth\": 0, \"ticks\": \"\"}}, \"type\": \"scattermapbox\"}], \"scatterpolar\": [{\"marker\": {\"colorbar\": {\"outlinewidth\": 0, \"ticks\": \"\"}}, \"type\": \"scatterpolar\"}], \"scatterpolargl\": [{\"marker\": {\"colorbar\": {\"outlinewidth\": 0, \"ticks\": \"\"}}, \"type\": \"scatterpolargl\"}], \"scatterternary\": [{\"marker\": {\"colorbar\": {\"outlinewidth\": 0, \"ticks\": \"\"}}, \"type\": \"scatterternary\"}], \"surface\": [{\"colorbar\": {\"outlinewidth\": 0, \"ticks\": \"\"}, \"colorscale\": [[0.0, \"#0d0887\"], [0.1111111111111111, \"#46039f\"], [0.2222222222222222, \"#7201a8\"], [0.3333333333333333, \"#9c179e\"], [0.4444444444444444, \"#bd3786\"], [0.5555555555555556, \"#d8576b\"], [0.6666666666666666, \"#ed7953\"], [0.7777777777777778, \"#fb9f3a\"], [0.8888888888888888, \"#fdca26\"], [1.0, \"#f0f921\"]], \"type\": \"surface\"}], \"table\": [{\"cells\": {\"fill\": {\"color\": \"#EBF0F8\"}, \"line\": {\"color\": \"white\"}}, \"header\": {\"fill\": {\"color\": \"#C8D4E3\"}, \"line\": {\"color\": \"white\"}}, \"type\": \"table\"}]}, \"layout\": {\"annotationdefaults\": {\"arrowcolor\": \"#2a3f5f\", \"arrowhead\": 0, \"arrowwidth\": 1}, \"coloraxis\": {\"colorbar\": {\"outlinewidth\": 0, \"ticks\": \"\"}}, \"colorscale\": {\"diverging\": [[0, \"#8e0152\"], [0.1, \"#c51b7d\"], [0.2, \"#de77ae\"], [0.3, \"#f1b6da\"], [0.4, \"#fde0ef\"], [0.5, \"#f7f7f7\"], [0.6, \"#e6f5d0\"], [0.7, \"#b8e186\"], [0.8, \"#7fbc41\"], [0.9, \"#4d9221\"], [1, \"#276419\"]], \"sequential\": [[0.0, \"#0d0887\"], [0.1111111111111111, \"#46039f\"], [0.2222222222222222, \"#7201a8\"], [0.3333333333333333, \"#9c179e\"], [0.4444444444444444, \"#bd3786\"], [0.5555555555555556, \"#d8576b\"], [0.6666666666666666, \"#ed7953\"], [0.7777777777777778, \"#fb9f3a\"], [0.8888888888888888, \"#fdca26\"], [1.0, \"#f0f921\"]], \"sequentialminus\": [[0.0, \"#0d0887\"], [0.1111111111111111, \"#46039f\"], [0.2222222222222222, \"#7201a8\"], [0.3333333333333333, \"#9c179e\"], [0.4444444444444444, \"#bd3786\"], [0.5555555555555556, \"#d8576b\"], [0.6666666666666666, \"#ed7953\"], [0.7777777777777778, \"#fb9f3a\"], [0.8888888888888888, \"#fdca26\"], [1.0, \"#f0f921\"]]}, \"colorway\": [\"#636efa\", \"#EF553B\", \"#00cc96\", \"#ab63fa\", \"#FFA15A\", \"#19d3f3\", \"#FF6692\", \"#B6E880\", \"#FF97FF\", \"#FECB52\"], \"font\": {\"color\": \"#2a3f5f\"}, \"geo\": {\"bgcolor\": \"white\", \"lakecolor\": \"white\", \"landcolor\": \"#E5ECF6\", \"showlakes\": true, \"showland\": true, \"subunitcolor\": \"white\"}, \"hoverlabel\": {\"align\": \"left\"}, \"hovermode\": \"closest\", \"mapbox\": {\"style\": \"light\"}, \"paper_bgcolor\": \"white\", \"plot_bgcolor\": \"#E5ECF6\", \"polar\": {\"angularaxis\": {\"gridcolor\": \"white\", \"linecolor\": \"white\", \"ticks\": \"\"}, \"bgcolor\": \"#E5ECF6\", \"radialaxis\": {\"gridcolor\": \"white\", \"linecolor\": \"white\", \"ticks\": \"\"}}, \"scene\": {\"xaxis\": {\"backgroundcolor\": \"#E5ECF6\", \"gridcolor\": \"white\", \"gridwidth\": 2, \"linecolor\": \"white\", \"showbackground\": true, \"ticks\": \"\", \"zerolinecolor\": \"white\"}, \"yaxis\": {\"backgroundcolor\": \"#E5ECF6\", \"gridcolor\": \"white\", \"gridwidth\": 2, \"linecolor\": \"white\", \"showbackground\": true, \"ticks\": \"\", \"zerolinecolor\": \"white\"}, \"zaxis\": {\"backgroundcolor\": \"#E5ECF6\", \"gridcolor\": \"white\", \"gridwidth\": 2, \"linecolor\": \"white\", \"showbackground\": true, \"ticks\": \"\", \"zerolinecolor\": \"white\"}}, \"shapedefaults\": {\"line\": {\"color\": \"#2a3f5f\"}}, \"ternary\": {\"aaxis\": {\"gridcolor\": \"white\", \"linecolor\": \"white\", \"ticks\": \"\"}, \"baxis\": {\"gridcolor\": \"white\", \"linecolor\": \"white\", \"ticks\": \"\"}, \"bgcolor\": \"#E5ECF6\", \"caxis\": {\"gridcolor\": \"white\", \"linecolor\": \"white\", \"ticks\": \"\"}}, \"title\": {\"x\": 0.05}, \"xaxis\": {\"automargin\": true, \"gridcolor\": \"white\", \"linecolor\": \"white\", \"ticks\": \"\", \"title\": {\"standoff\": 15}, \"zerolinecolor\": \"white\", \"zerolinewidth\": 2}, \"yaxis\": {\"automargin\": true, \"gridcolor\": \"white\", \"linecolor\": \"white\", \"ticks\": \"\", \"title\": {\"standoff\": 15}, \"zerolinecolor\": \"white\", \"zerolinewidth\": 2}}}, \"xaxis\": {\"anchor\": \"y\", \"domain\": [0.0, 1.0], \"title\": {\"text\": \"observation_date\"}}, \"yaxis\": {\"anchor\": \"x\", \"domain\": [0.0, 1.0], \"title\": {\"text\": \"y\"}}},\n",
              "                        {\"responsive\": true}\n",
              "                    ).then(function(){\n",
              "                            \n",
              "var gd = document.getElementById('205bc12e-91cd-450e-a5b5-97cb2feb103b');\n",
              "var x = new MutationObserver(function (mutations, observer) {{\n",
              "        var display = window.getComputedStyle(gd).display;\n",
              "        if (!display || display === 'none') {{\n",
              "            console.log([gd, 'removed!']);\n",
              "            Plotly.purge(gd);\n",
              "            observer.disconnect();\n",
              "        }}\n",
              "}});\n",
              "\n",
              "// Listen for the removal of the full notebook cells\n",
              "var notebookContainer = gd.closest('#notebook-container');\n",
              "if (notebookContainer) {{\n",
              "    x.observe(notebookContainer, {childList: true});\n",
              "}}\n",
              "\n",
              "// Listen for the clearing of the current output cell\n",
              "var outputEl = gd.closest('.output');\n",
              "if (outputEl) {{\n",
              "    x.observe(outputEl, {childList: true});\n",
              "}}\n",
              "\n",
              "                        })\n",
              "                };\n",
              "                \n",
              "            </script>\n",
              "        </div>\n",
              "</body>\n",
              "</html>"
            ]
          },
          "metadata": {
            "tags": []
          }
        }
      ]
    },
    {
      "cell_type": "code",
      "metadata": {
        "id": "hzQERoE_JUF1",
        "colab_type": "code",
        "outputId": "95a2ccb4-f4f7-4618-ce5f-69ce0384a6f4",
        "colab": {
          "base_uri": "https://localhost:8080/",
          "height": 346
        }
      },
      "source": [
        "# get list of column headers\n",
        "list(df.columns.values)"
      ],
      "execution_count": 0,
      "outputs": [
        {
          "output_type": "execute_result",
          "data": {
            "text/plain": [
              "['observation_date',\n",
              " 'Population_in_the_UK_in_thousands',\n",
              " 'Current_Account_in_the_UK_in_milli_pounds',\n",
              " 'Current_Account_in_the UK__percent_of_nominal_gdp',\n",
              " 'Public_Sector_Debt_Outstanding_in_the_UK_in_milli',\n",
              " 'Nominal_GDP_at_ Market_Prices_in_the_UK_in_milli_pounds',\n",
              " 'Bank _of_England_ Policy_Rate_in_the_UK_in_percent',\n",
              " 'Real_Gross_Domestic_Product_at_Market_Prices_in_the_UK_milli_pounds',\n",
              " 'Consumer_Price_Inflation_in_the_UK_percent',\n",
              " 'Unemployment_Rate_in_the_UK_percent',\n",
              " 'US_UK_Foreign_Exchange_Rate_in_the_UK',\n",
              " 'Labor_Productivity_Real_GDP_Per_Person_in_the_ UK',\n",
              " 'Broad_Money_in_the_UK_in_milli_pounds',\n",
              " 'Average_Weekly_Hours_Worked_in_ the_UK',\n",
              " 'Employment_in_the_UK_in_thousands',\n",
              " ' Notes_and_Coin_in_Circulation_in_the_UK',\n",
              " 'Population_in_England_in_thousands',\n",
              " 'Public_Sector_Net_Lending/Borrowing_in_the_UK',\n",
              " 'Current_Account_Deficit_Including_Estimated_Non_Monetary_Bullion_Flows_in_the_UK_in_mili']"
            ]
          },
          "metadata": {
            "tags": []
          },
          "execution_count": 53
        }
      ]
    },
    {
      "cell_type": "code",
      "metadata": {
        "id": "DrLM8wEJGoER",
        "colab_type": "code",
        "outputId": "0873273b-96d1-4a8c-eaec-4eaa151e1426",
        "colab": {
          "base_uri": "https://localhost:8080/",
          "height": 542
        }
      },
      "source": [
        "# scatter matix sample 1\n",
        "fig = px.scatter_matrix(df, dimensions=[\"Public_Sector_Debt_Outstanding_in_the_UK_in_milli\", \"Current_Account_in_the_UK_in_milli_pounds\", \"Real_Gross_Domestic_Product_at_Market_Prices_in_the_UK_milli_pounds\", \"Broad_Money_in_the_UK_in_milli_pounds\",\"Current_Account_Deficit_Including_Estimated_Non_Monetary_Bullion_Flows_in_the_UK_in_mili\"], color=\"Public_Sector_Debt_Outstanding_in_the_UK_in_milli\")\n",
        "fig.show()"
      ],
      "execution_count": 0,
      "outputs": [
        {
          "output_type": "display_data",
          "data": {
            "text/html": [
              "<html>\n",
              "<head><meta charset=\"utf-8\" /></head>\n",
              "<body>\n",
              "    <div>\n",
              "            <script src=\"https://cdnjs.cloudflare.com/ajax/libs/mathjax/2.7.5/MathJax.js?config=TeX-AMS-MML_SVG\"></script><script type=\"text/javascript\">if (window.MathJax) {MathJax.Hub.Config({SVG: {font: \"STIX-Web\"}});}</script>\n",
              "                <script type=\"text/javascript\">window.PlotlyConfig = {MathJaxConfig: 'local'};</script>\n",
              "        <script src=\"https://cdn.plot.ly/plotly-latest.min.js\"></script>    \n",
              "            <div id=\"2cac4821-1ad2-4b88-894d-771b17f4c6df\" class=\"plotly-graph-div\" style=\"height:525px; width:100%;\"></div>\n",
              "            <script type=\"text/javascript\">\n",
              "                \n",
              "                    window.PLOTLYENV=window.PLOTLYENV || {};\n",
              "                    \n",
              "                if (document.getElementById(\"2cac4821-1ad2-4b88-894d-771b17f4c6df\")) {\n",
              "                    Plotly.newPlot(\n",
              "                        '2cac4821-1ad2-4b88-894d-771b17f4c6df',\n",
              "                        [{\"dimensions\": [{\"axis\": {\"matches\": true}, \"label\": \"Public_Sector_Debt_Outstanding_in_the_UK_in_milli\", \"values\": [null, null, null, null, null, null, null, null, null, null, null, null, null, null, null, null, null, null, null, null, null, null, null, null, null, null, null, null, null, null, null, null, null, null, null, null, null, null, null, null, null, null, null, null, null, null, null, null, null, null, null, null, null, null, null, null, null, null, null, null, null, null, null, null, null, null, null, null, null, null, null, null, null, null, null, null, null, null, null, null, null, null, null, null, null, null, null, null, null, null, null, null, null, null, null, null, null, null, 450.0, 469.0, 497.0, 543.0, 562.0, 573.0, 596.0, 624.0, 645.0, 659.0, 670.0, 682.0, 688.0, 703.0, 735.0, 817.0, 844.0, 889.0, 886.0, 879.0, 878.0, 873.0, 873.0, 868.0, 879.0, 883.0, 873.0, 860.0, 860.0, 857.0, 852.0, 850.0, 840.0, 838.0, 838.0, 838.0, 834.0, 846.0, 846.0, 842.0, 840.0, 839.0, 839.0, 841.0, 839.0, 838.0, 834.0, 830.0, 826.0, 832.0, 831.0, 829.0, 824.0, 818.0, 814.0, 804.0, 806.0, 827.0, 836.0, 833.0, 829.0, 824.0, 822.0, 821.0, 821.0, 818.0, 814.0, 806.0, 802.0, 799.0, 798.0, 794.0, 789.0, 785.0, 779.0, 773.0, 768.0, 769.0, 769.0, 770.0, 772.0, 771.0, 767.0, 761.0, 755.0, 748.0, 741.0, 741.0, 738.0, 713.0, 699.0, 691.0, 685.0, 679.0, 673.0, 668.0, 661.0, 654.0, 647.0, 640.0, 636.0, 638.0, 689.0, 753.0, 791.0, 795.0, 796.0, 791.0, 782.0, 767.0, 756.0, 760.0, 740.0, 722.0, 713.0, 707.0, 1048.0, 1933.0, 3595.0, 5457.0, 7091.0, 7777.0, 7686.0, 7696.0, 7790.0, 7734.0, 7676.0, 7642.0, 7648.0, 7636.0, 7623.0, 7602.0, 7586.0, 7632.0, 7807.0, 7988.0, 7934.0, 7902.0, 7908.0, 8089.0, 8263.0, 8888.0, 10935.0, 13558.0, 16311.0, 19059.0, 21842.0, 23466.0, 25271.0, 25772.0, 25442.0, 25758.0, 25916.0, 25899.0, 26011.0, 26450.0, 26846.0, 27013.0, 27016.0, 27176.0, 27340.0, 27644.0, 28122.0, 28569.0, 29555.0, 30132.0, 30387.0, 31116.0, 31825.0, 33642.0, 34037.0, 33305.0, 33351.0, 35241.0, 36624.0, 39315.0, 49105.0, 61579.0, 71366.0, 78050.0, 86339.0, 95795.0, 109924.0, 122358.0, 130709.0, 140840.0, 153664.0, 161102.0, 166431.0, 167474.0, 157135.0, 152374.0, 151267.0, 162074.0, 192851.0, 234900.0, 278400.0, 313600.0, 341900.0, 364000.0, 361200.0, 364400.0, 328200.0, 328800.0, 358800.0, 390200.0, 448700.0, 492200.0, 527300.0, 562500.0, 733300.0, 938900.0, 1136900.0, 1240700.0, 1349700.0, 1454000.0, 1556000.0, 1610500.0, 1701800.0]}, {\"axis\": {\"matches\": true}, \"label\": \"Current_Account_in_the_UK_in_milli_pounds\", \"values\": [null, null, null, null, null, null, null, null, null, null, null, null, null, null, null, null, null, null, null, null, null, null, null, null, null, null, null, null, null, null, null, null, null, null, null, null, null, null, null, null, null, null, null, null, null, null, null, null, null, null, null, null, null, null, null, null, null, null, null, null, null, null, null, null, null, null, null, null, null, null, null, null, null, null, null, null, null, null, null, null, null, null, null, null, null, null, null, null, null, null, null, null, null, null, null, null, null, null, null, null, null, null, null, null, null, null, null, null, null, null, null, null, null, null, null, null, null, null, null, null, null, null, null, null, null, null, null, null, null, null, null, null, null, null, null, null, null, null, null, null, null, null, null, null, null, null, null, null, null, null, null, null, null, null, null, null, null, null, null, null, null, null, null, null, null, null, null, null, null, null, null, null, null, null, null, null, null, null, null, null, null, null, null, null, null, null, null, null, null, null, null, null, null, null, null, null, null, null, null, null, null, null, null, null, null, null, null, null, null, null, null, null, null, null, null, null, null, null, null, null, null, null, null, null, null, null, null, null, null, null, null, null, null, null, null, null, null, null, null, null, null, null, null, null, -747.0, -865.0, -375.0, -555.0, -216.0, -181.0, -59.0, -661.0, -151.0, -124.0, -99.0, -277.0, 69.0, 81.0, 139.0, -13.0, -382.0, -112.0, -75.0, -141.0, -610.0, -358.0, -105.0, -495.0, -437.0, 99.0, 349.0, 722.0, -126.0, -1793.0, -4099.0, -1715.0, -1264.0, 1197.0, 2422.0, 955.0, 5407.0, 7602.0, 5689.0, 3299.0, 131.0, 4488.0, -2090.0, -3483.0, -15094.0, -18323.0, -11117.0, -2550.0, -4847.0, -2658.0, -185.0, 2394.0, 1604.0, 3828.0, -7910.0, -16169.0, -20439.0, -26108.0, -32945.0, -30386.0, -35397.0, -36502.0, -36113.0, -39942.0, -46189.0, -34355.0, -42593.0, -27060.0, -37334.0, -39238.0, -36223.0, -29788.0, -37026.0]}, {\"axis\": {\"matches\": true}, \"label\": \"Real_Gross_Domestic_Product_at_Market_Prices_in_the_UK_milli_pounds\", \"values\": [10365, 11295, 11004, 10298, 12260, 11637, 9854, 11071, 11784, 10209, 9282, 10120, 10111, 9677, 10645, 10346, 10737, 11343, 11983, 11772, 12523, 12034, 12163, 11871, 11752, 12059, 11686, 11616, 11970, 11305, 11564, 11380, 12136, 12405, 12360, 12067, 12964, 12270, 12499, 12415, 12207, 12563, 12852, 12550, 12375, 12557, 12951, 13542, 13397, 13317, 13510, 13218, 13869, 13992, 13600, 14012, 13775, 14568, 14771, 15005, 15441, 16055, 15609, 15557, 15551, 15425, 15631, 15738, 15883, 16781, 16322, 16627, 16203, 16491, 16125, 16640, 17179, 17676, 17552, 17504, 18304, 18826, 18638, 18542, 18615, 18485, 18809, 18496, 18453, 18866, 20298, 20385, 21204, 20860, 20185, 22378, 22779, 22614, 22831, 23431, 24574, 24794, 25082, 24557, 24535, 26023, 25922, 27616, 26329, 27156, 28906, 28607, 27429, 28919, 28279, 31299, 29660, 30158, 30128, 29634, 32041, 32587, 33217, 34196, 36071, 36885, 34915, 37605, 37720, 38040, 39745, 40957, 41180, 41641, 43083, 45695, 46899, 46499, 48750, 49807, 50031, 48661, 48237, 49915, 53601, 56132, 58825, 58026, 59733, 60623, 59878, 62607, 64595, 66869, 69367, 68884, 72193, 72707, 72480, 75400, 77082, 78497, 77711, 81695, 82739, 86675, 87797, 88388, 91818, 93878, 101221, 107008, 107484, 108196, 112689, 113836, 114313, 115398, 115250, 113309, 121376, 124713, 126792, 130545, 129038, 127654, 128038, 133523, 138189, 142655, 144047, 148547, 144670, 143258, 150222, 155163, 161399, 163651, 171493, 177872, 177814, 181798, 184538, 182394, 184711, 190836, 195515, 200255, 192159, 196673, 202248, 209312, 213042, 222506, 227045, 239587, 242365, 241056, 245734, 226530, 213408, 192684, 202914, 208925, 218786, 226485, 219419, 236293, 238403, 245205, 243254, 231969, 232128, 239510, 253801, 263187, 275737, 285387, 287602, 300258, 330052, 358791, 365224, 371499, 355152, 338911, 330579, 326360, 336854, 348243, 359774, 373254, 379199, 400153, 417347, 433302, 440315, 448743, 454426, 473093, 502799, 516253, 521906, 547364, 577677, 589975, 599211, 615879, 649439, 661919, 679900, 703556, 733770, 781583, 762257, 750912, 772852, 791889, 825111, 855933, 838462, 831931, 848700, 884520, 904639, 942519, 972239, 1024346, 1083629, 1111618, 1119587, 1107059, 1111043, 1138897, 1183144, 1212798, 1243709, 1282602, 1323527, 1366983, 1418176, 1456837, 1491761, 1543468, 1582486, 1629519, 1670306, 1712996, 1702252, 1628583, 1659772, 1684820, 1706942, 1739563, 1792976, 1832318, 1865410]}, {\"axis\": {\"matches\": true}, \"label\": \"Broad_Money_in_the_UK_in_milli_pounds\", \"values\": [null, null, null, null, null, null, null, null, null, null, null, null, null, null, null, null, null, null, null, null, null, null, null, null, null, null, null, null, null, null, null, null, null, null, null, null, null, null, null, null, null, null, null, null, null, null, null, null, null, null, null, null, null, null, null, null, null, null, null, null, null, null, null, null, null, null, null, null, null, null, null, null, null, null, null, null, null, null, null, null, null, null, null, null, null, null, null, null, null, null, null, null, null, null, null, null, null, null, null, null, null, null, null, null, null, null, null, null, null, null, null, null, null, null, null, null, null, null, null, null, null, null, null, null, null, null, null, null, null, null, null, null, null, null, null, null, null, null, null, null, null, null, null, null, 204.0, 224.0, 228.0, 196.0, 192.0, 223.0, 238.0, 241.0, 281.0, 284.0, 293.0, 322.0, 348.0, 369.0, 331.0, 350.0, 358.0, 375.0, 377.0, 466.0, 530.0, 485.0, 532.0, 491.0, 471.0, 533.0, 501.0, 552.0, 572.0, 572.0, 591.0, 610.0, 612.0, 579.0, 549.0, 553.0, 551.0, 573.0, 592.0, 589.0, 592.0, 604.0, 606.0, 614.0, 636.0, 653.0, 675.0, 693.0, 696.0, 689.0, 706.0, 746.0, 780.0, 800.0, 812.0, 851.0, 866.0, 856.0, 881.0, 855.0, 854.0, 875.0, 903.0, 908.0, 934.0, 947.0, 973.0, 986.0, 1016.0, 1075.0, 1231.0, 1324.0, 1519.0, 1770.0, 2208.0, 2546.0, 2699.0, 2608.0, 2362.0, 2324.0, 2321.0, 2320.0, 2353.0, 2414.0, 2514.0, 2519.0, 2645.0, 2566.0, 2840.0, 2883.0, 2964.0, 3143.0, 3373.0, 3475.0, 3448.0, 3638.0, 3968.0, 4639.0, 5102.0, 5683.0, 6339.0, 6835.0, 7766.0, 8075.0, 8302.0, 8407.0, 8737.0, 8736.0, 8992.0, 9439.0, 9939.0, 9867.0, 10168.0, 10556.0, 11021.0, 11647.0, 11888.0, 12259.0, 12839.0, 13817.0, 14883.0, 16294.0, 17355.0, 19496.0, 21156.0, 22235.0, 24897.0, 28965.0, 35257.0, 43104.0, 47815.0, 53587.0, 59968.0, 68888.0, 79334.0, 90823.0, 106502.0, 121459.0, 136716.0, 154809.0, 175809.0, 201739.0, 233519.0, 272491.0, 319313.0, 377046.0, 422204.0, 447467.0, 462935.0, 483504.0, 506377.0, 555945.0, 608522.0, 680128.0, 741334.0, 770692.0, 831569.0, 884851.0, 944955.0, 1006433.0, 1079428.0, 1185560.0, 1304358.0, 1442989.0, 1496955.0, 1518131.0, 1556035.0, 1577787.0, 1660130.0, 1722147.0, 1797282.0, 1866046.0, 2000228.0]}, {\"axis\": {\"matches\": true}, \"label\": \"Current_Account_Deficit_Including_Estimated_Non_Monetary_Bullion_Flows_in_the_UK_in_mili\", \"values\": [null, null, null, null, null, null, null, null, null, null, null, null, null, null, null, null, null, null, null, null, null, null, null, null, null, null, null, null, null, null, null, null, null, null, null, null, null, null, null, null, null, null, null, null, null, null, null, null, null, null, null, null, null, null, null, null, null, null, null, null, null, null, null, null, null, null, null, null, null, null, null, null, null, null, null, null, null, null, null, null, null, null, null, null, null, null, null, null, null, null, null, null, null, null, null, null, null, null, null, null, null, null, null, null, null, null, null, null, null, null, null, null, null, null, null, null, null, null, null, null, null, null, null, null, null, null, null, null, null, null, null, null, 1.3, 0.8, 1.4, 2.3, 1.0, 0.4, 0.7, 0.4, -0.3, 0.4, 0.6, 2.5, 2.4, 1.7, 1.6, -0.5, 0.3, 0.5, 1.9, 1.7, 1.8, 0.9, 1.0, 2.3, 2.8, 2.9, 3.6, 4.4, 2.7, 1.6, 1.3, 2.8, 2.4, 3.5, 3.3, 4.1, 3.5, 4.3, 4.5, 6.6, 7.5, 6.0, 5.2, 4.0, 1.9, 0.7, 1.1, 3.3, 2.2, 4.8, 4.4, 3.5, 5.3, 4.7, 5.9, 6.2, 6.6, 5.5, 6.7, 4.7, 4.3, 3.6, 2.8, 3.3, 3.1, 2.4, 1.3, 2.5, 1.3, 1.0, 0.8, 2.1, 2.7, 4.3, 5.6, 7.4, 7.6, 6.5, 7.7, 9.1, 8.5, 9.3, 4.1, -1.7, 2.8, 0.6, -4.8, -0.2, 6.7, 3.8, 4.6, 4.4, 2.0, 1.5, -0.7, 2.0, 3.0, 2.2, 0.6, -2.3, -1.8, -0.8, -2.6, 0.7, -0.9, -0.1, -3.8, 0.1, -9.2, -9.3, -6.6, -5.2, -7.3, -8.8, -1.6, -2.9, 0.7, 0.3, 2.6, -2.3, 1.4, 1.2, 0.9, -0.6, 1.2, 1.2, 1.6, 0.7, -0.8, 0.2, 0.6, 0.5, -1.0, -0.2, 0.3, -0.7, -0.7, 0.8, 1.3, 1.6, 0.0, -1.5, -3.8, -1.6, -0.9, -0.3, 0.3, -0.6, 0.5, 1.5, 0.6, 0.2, -0.5, -0.3, -1.0, -1.6, -3.6, -4.1, -3.1, -1.3, -1.5, -1.3, -0.5, -0.7, -0.6, -0.2, -0.4, -2.4, -2.1, -1.9, -2.0, -1.7, -1.8, -1.2, -2.2, -2.4, -3.5, -3.0, -2.7, -1.8, -3.7, -4.4, -4.7, -4.3, -4.4]}], \"hoverlabel\": {\"namelength\": 0}, \"hovertemplate\": \"%{xaxis.title.text}=%{x}<br>%{yaxis.title.text}=%{y}<br>Public_Sector_Debt_Outstanding_in_the_UK_in_milli=%{marker.color}\", \"legendgroup\": \"\", \"marker\": {\"color\": [null, null, null, null, null, null, null, null, null, null, null, null, null, null, null, null, null, null, null, null, null, null, null, null, null, null, null, null, null, null, null, null, null, null, null, null, null, null, null, null, null, null, null, null, null, null, null, null, null, null, null, null, null, null, null, null, null, null, null, null, null, null, null, null, null, null, null, null, null, null, null, null, null, null, null, null, null, null, null, null, null, null, null, null, null, null, null, null, null, null, null, null, null, null, null, null, null, null, 450.0, 469.0, 497.0, 543.0, 562.0, 573.0, 596.0, 624.0, 645.0, 659.0, 670.0, 682.0, 688.0, 703.0, 735.0, 817.0, 844.0, 889.0, 886.0, 879.0, 878.0, 873.0, 873.0, 868.0, 879.0, 883.0, 873.0, 860.0, 860.0, 857.0, 852.0, 850.0, 840.0, 838.0, 838.0, 838.0, 834.0, 846.0, 846.0, 842.0, 840.0, 839.0, 839.0, 841.0, 839.0, 838.0, 834.0, 830.0, 826.0, 832.0, 831.0, 829.0, 824.0, 818.0, 814.0, 804.0, 806.0, 827.0, 836.0, 833.0, 829.0, 824.0, 822.0, 821.0, 821.0, 818.0, 814.0, 806.0, 802.0, 799.0, 798.0, 794.0, 789.0, 785.0, 779.0, 773.0, 768.0, 769.0, 769.0, 770.0, 772.0, 771.0, 767.0, 761.0, 755.0, 748.0, 741.0, 741.0, 738.0, 713.0, 699.0, 691.0, 685.0, 679.0, 673.0, 668.0, 661.0, 654.0, 647.0, 640.0, 636.0, 638.0, 689.0, 753.0, 791.0, 795.0, 796.0, 791.0, 782.0, 767.0, 756.0, 760.0, 740.0, 722.0, 713.0, 707.0, 1048.0, 1933.0, 3595.0, 5457.0, 7091.0, 7777.0, 7686.0, 7696.0, 7790.0, 7734.0, 7676.0, 7642.0, 7648.0, 7636.0, 7623.0, 7602.0, 7586.0, 7632.0, 7807.0, 7988.0, 7934.0, 7902.0, 7908.0, 8089.0, 8263.0, 8888.0, 10935.0, 13558.0, 16311.0, 19059.0, 21842.0, 23466.0, 25271.0, 25772.0, 25442.0, 25758.0, 25916.0, 25899.0, 26011.0, 26450.0, 26846.0, 27013.0, 27016.0, 27176.0, 27340.0, 27644.0, 28122.0, 28569.0, 29555.0, 30132.0, 30387.0, 31116.0, 31825.0, 33642.0, 34037.0, 33305.0, 33351.0, 35241.0, 36624.0, 39315.0, 49105.0, 61579.0, 71366.0, 78050.0, 86339.0, 95795.0, 109924.0, 122358.0, 130709.0, 140840.0, 153664.0, 161102.0, 166431.0, 167474.0, 157135.0, 152374.0, 151267.0, 162074.0, 192851.0, 234900.0, 278400.0, 313600.0, 341900.0, 364000.0, 361200.0, 364400.0, 328200.0, 328800.0, 358800.0, 390200.0, 448700.0, 492200.0, 527300.0, 562500.0, 733300.0, 938900.0, 1136900.0, 1240700.0, 1349700.0, 1454000.0, 1556000.0, 1610500.0, 1701800.0], \"coloraxis\": \"coloraxis\", \"symbol\": \"circle\"}, \"name\": \"\", \"showlegend\": false, \"type\": \"splom\"}],\n",
              "                        {\"coloraxis\": {\"colorbar\": {\"title\": {\"text\": \"Public_Sector_Debt_Outstanding_in_the_UK_in_milli\"}}, \"colorscale\": [[0.0, \"#0d0887\"], [0.1111111111111111, \"#46039f\"], [0.2222222222222222, \"#7201a8\"], [0.3333333333333333, \"#9c179e\"], [0.4444444444444444, \"#bd3786\"], [0.5555555555555556, \"#d8576b\"], [0.6666666666666666, \"#ed7953\"], [0.7777777777777778, \"#fb9f3a\"], [0.8888888888888888, \"#fdca26\"], [1.0, \"#f0f921\"]]}, \"dragmode\": \"select\", \"legend\": {\"tracegroupgap\": 0}, \"margin\": {\"t\": 60}, \"template\": {\"data\": {\"bar\": [{\"error_x\": {\"color\": \"#2a3f5f\"}, \"error_y\": {\"color\": \"#2a3f5f\"}, \"marker\": {\"line\": {\"color\": \"#E5ECF6\", \"width\": 0.5}}, \"type\": \"bar\"}], \"barpolar\": [{\"marker\": {\"line\": {\"color\": \"#E5ECF6\", \"width\": 0.5}}, \"type\": \"barpolar\"}], \"carpet\": [{\"aaxis\": {\"endlinecolor\": \"#2a3f5f\", \"gridcolor\": \"white\", \"linecolor\": \"white\", \"minorgridcolor\": \"white\", \"startlinecolor\": \"#2a3f5f\"}, \"baxis\": {\"endlinecolor\": \"#2a3f5f\", \"gridcolor\": \"white\", \"linecolor\": \"white\", \"minorgridcolor\": \"white\", \"startlinecolor\": \"#2a3f5f\"}, \"type\": \"carpet\"}], \"choropleth\": [{\"colorbar\": {\"outlinewidth\": 0, \"ticks\": \"\"}, \"type\": \"choropleth\"}], \"contour\": [{\"colorbar\": {\"outlinewidth\": 0, \"ticks\": \"\"}, \"colorscale\": [[0.0, \"#0d0887\"], [0.1111111111111111, \"#46039f\"], [0.2222222222222222, \"#7201a8\"], [0.3333333333333333, \"#9c179e\"], [0.4444444444444444, \"#bd3786\"], [0.5555555555555556, \"#d8576b\"], [0.6666666666666666, \"#ed7953\"], [0.7777777777777778, \"#fb9f3a\"], [0.8888888888888888, \"#fdca26\"], [1.0, \"#f0f921\"]], \"type\": \"contour\"}], \"contourcarpet\": [{\"colorbar\": {\"outlinewidth\": 0, \"ticks\": \"\"}, \"type\": \"contourcarpet\"}], \"heatmap\": [{\"colorbar\": {\"outlinewidth\": 0, \"ticks\": \"\"}, \"colorscale\": [[0.0, \"#0d0887\"], [0.1111111111111111, \"#46039f\"], [0.2222222222222222, \"#7201a8\"], [0.3333333333333333, \"#9c179e\"], [0.4444444444444444, \"#bd3786\"], [0.5555555555555556, \"#d8576b\"], [0.6666666666666666, \"#ed7953\"], [0.7777777777777778, \"#fb9f3a\"], [0.8888888888888888, \"#fdca26\"], [1.0, \"#f0f921\"]], \"type\": \"heatmap\"}], \"heatmapgl\": [{\"colorbar\": {\"outlinewidth\": 0, \"ticks\": \"\"}, \"colorscale\": [[0.0, \"#0d0887\"], [0.1111111111111111, \"#46039f\"], [0.2222222222222222, \"#7201a8\"], [0.3333333333333333, \"#9c179e\"], [0.4444444444444444, \"#bd3786\"], [0.5555555555555556, \"#d8576b\"], [0.6666666666666666, \"#ed7953\"], [0.7777777777777778, \"#fb9f3a\"], [0.8888888888888888, \"#fdca26\"], [1.0, \"#f0f921\"]], \"type\": \"heatmapgl\"}], \"histogram\": [{\"marker\": {\"colorbar\": {\"outlinewidth\": 0, \"ticks\": \"\"}}, \"type\": \"histogram\"}], \"histogram2d\": [{\"colorbar\": {\"outlinewidth\": 0, \"ticks\": \"\"}, \"colorscale\": [[0.0, \"#0d0887\"], [0.1111111111111111, \"#46039f\"], [0.2222222222222222, \"#7201a8\"], [0.3333333333333333, \"#9c179e\"], [0.4444444444444444, \"#bd3786\"], [0.5555555555555556, \"#d8576b\"], [0.6666666666666666, \"#ed7953\"], [0.7777777777777778, \"#fb9f3a\"], [0.8888888888888888, \"#fdca26\"], [1.0, \"#f0f921\"]], \"type\": \"histogram2d\"}], \"histogram2dcontour\": [{\"colorbar\": {\"outlinewidth\": 0, \"ticks\": \"\"}, \"colorscale\": [[0.0, \"#0d0887\"], [0.1111111111111111, \"#46039f\"], [0.2222222222222222, \"#7201a8\"], [0.3333333333333333, \"#9c179e\"], [0.4444444444444444, \"#bd3786\"], [0.5555555555555556, \"#d8576b\"], [0.6666666666666666, \"#ed7953\"], [0.7777777777777778, \"#fb9f3a\"], [0.8888888888888888, \"#fdca26\"], [1.0, \"#f0f921\"]], \"type\": \"histogram2dcontour\"}], \"mesh3d\": [{\"colorbar\": {\"outlinewidth\": 0, \"ticks\": \"\"}, \"type\": \"mesh3d\"}], \"parcoords\": [{\"line\": {\"colorbar\": {\"outlinewidth\": 0, \"ticks\": \"\"}}, \"type\": \"parcoords\"}], \"pie\": [{\"automargin\": true, \"type\": \"pie\"}], \"scatter\": [{\"marker\": {\"colorbar\": {\"outlinewidth\": 0, \"ticks\": \"\"}}, \"type\": \"scatter\"}], \"scatter3d\": [{\"line\": {\"colorbar\": {\"outlinewidth\": 0, \"ticks\": \"\"}}, \"marker\": {\"colorbar\": {\"outlinewidth\": 0, \"ticks\": \"\"}}, \"type\": \"scatter3d\"}], \"scattercarpet\": [{\"marker\": {\"colorbar\": {\"outlinewidth\": 0, \"ticks\": \"\"}}, \"type\": \"scattercarpet\"}], \"scattergeo\": [{\"marker\": {\"colorbar\": {\"outlinewidth\": 0, \"ticks\": \"\"}}, \"type\": \"scattergeo\"}], \"scattergl\": [{\"marker\": {\"colorbar\": {\"outlinewidth\": 0, \"ticks\": \"\"}}, \"type\": \"scattergl\"}], \"scattermapbox\": [{\"marker\": {\"colorbar\": {\"outlinewidth\": 0, \"ticks\": \"\"}}, \"type\": \"scattermapbox\"}], \"scatterpolar\": [{\"marker\": {\"colorbar\": {\"outlinewidth\": 0, \"ticks\": \"\"}}, \"type\": \"scatterpolar\"}], \"scatterpolargl\": [{\"marker\": {\"colorbar\": {\"outlinewidth\": 0, \"ticks\": \"\"}}, \"type\": \"scatterpolargl\"}], \"scatterternary\": [{\"marker\": {\"colorbar\": {\"outlinewidth\": 0, \"ticks\": \"\"}}, \"type\": \"scatterternary\"}], \"surface\": [{\"colorbar\": {\"outlinewidth\": 0, \"ticks\": \"\"}, \"colorscale\": [[0.0, \"#0d0887\"], [0.1111111111111111, \"#46039f\"], [0.2222222222222222, \"#7201a8\"], [0.3333333333333333, \"#9c179e\"], [0.4444444444444444, \"#bd3786\"], [0.5555555555555556, \"#d8576b\"], [0.6666666666666666, \"#ed7953\"], [0.7777777777777778, \"#fb9f3a\"], [0.8888888888888888, \"#fdca26\"], [1.0, \"#f0f921\"]], \"type\": \"surface\"}], \"table\": [{\"cells\": {\"fill\": {\"color\": \"#EBF0F8\"}, \"line\": {\"color\": \"white\"}}, \"header\": {\"fill\": {\"color\": \"#C8D4E3\"}, \"line\": {\"color\": \"white\"}}, \"type\": \"table\"}]}, \"layout\": {\"annotationdefaults\": {\"arrowcolor\": \"#2a3f5f\", \"arrowhead\": 0, \"arrowwidth\": 1}, \"coloraxis\": {\"colorbar\": {\"outlinewidth\": 0, \"ticks\": \"\"}}, \"colorscale\": {\"diverging\": [[0, \"#8e0152\"], [0.1, \"#c51b7d\"], [0.2, \"#de77ae\"], [0.3, \"#f1b6da\"], [0.4, \"#fde0ef\"], [0.5, \"#f7f7f7\"], [0.6, \"#e6f5d0\"], [0.7, \"#b8e186\"], [0.8, \"#7fbc41\"], [0.9, \"#4d9221\"], [1, \"#276419\"]], \"sequential\": [[0.0, \"#0d0887\"], [0.1111111111111111, \"#46039f\"], [0.2222222222222222, \"#7201a8\"], [0.3333333333333333, \"#9c179e\"], [0.4444444444444444, \"#bd3786\"], [0.5555555555555556, \"#d8576b\"], [0.6666666666666666, \"#ed7953\"], [0.7777777777777778, \"#fb9f3a\"], [0.8888888888888888, \"#fdca26\"], [1.0, \"#f0f921\"]], \"sequentialminus\": [[0.0, \"#0d0887\"], [0.1111111111111111, \"#46039f\"], [0.2222222222222222, \"#7201a8\"], [0.3333333333333333, \"#9c179e\"], [0.4444444444444444, \"#bd3786\"], [0.5555555555555556, \"#d8576b\"], [0.6666666666666666, \"#ed7953\"], [0.7777777777777778, \"#fb9f3a\"], [0.8888888888888888, \"#fdca26\"], [1.0, \"#f0f921\"]]}, \"colorway\": [\"#636efa\", \"#EF553B\", \"#00cc96\", \"#ab63fa\", \"#FFA15A\", \"#19d3f3\", \"#FF6692\", \"#B6E880\", \"#FF97FF\", \"#FECB52\"], \"font\": {\"color\": \"#2a3f5f\"}, \"geo\": {\"bgcolor\": \"white\", \"lakecolor\": \"white\", \"landcolor\": \"#E5ECF6\", \"showlakes\": true, \"showland\": true, \"subunitcolor\": \"white\"}, \"hoverlabel\": {\"align\": \"left\"}, \"hovermode\": \"closest\", \"mapbox\": {\"style\": \"light\"}, \"paper_bgcolor\": \"white\", \"plot_bgcolor\": \"#E5ECF6\", \"polar\": {\"angularaxis\": {\"gridcolor\": \"white\", \"linecolor\": \"white\", \"ticks\": \"\"}, \"bgcolor\": \"#E5ECF6\", \"radialaxis\": {\"gridcolor\": \"white\", \"linecolor\": \"white\", \"ticks\": \"\"}}, \"scene\": {\"xaxis\": {\"backgroundcolor\": \"#E5ECF6\", \"gridcolor\": \"white\", \"gridwidth\": 2, \"linecolor\": \"white\", \"showbackground\": true, \"ticks\": \"\", \"zerolinecolor\": \"white\"}, \"yaxis\": {\"backgroundcolor\": \"#E5ECF6\", \"gridcolor\": \"white\", \"gridwidth\": 2, \"linecolor\": \"white\", \"showbackground\": true, \"ticks\": \"\", \"zerolinecolor\": \"white\"}, \"zaxis\": {\"backgroundcolor\": \"#E5ECF6\", \"gridcolor\": \"white\", \"gridwidth\": 2, \"linecolor\": \"white\", \"showbackground\": true, \"ticks\": \"\", \"zerolinecolor\": \"white\"}}, \"shapedefaults\": {\"line\": {\"color\": \"#2a3f5f\"}}, \"ternary\": {\"aaxis\": {\"gridcolor\": \"white\", \"linecolor\": \"white\", \"ticks\": \"\"}, \"baxis\": {\"gridcolor\": \"white\", \"linecolor\": \"white\", \"ticks\": \"\"}, \"bgcolor\": \"#E5ECF6\", \"caxis\": {\"gridcolor\": \"white\", \"linecolor\": \"white\", \"ticks\": \"\"}}, \"title\": {\"x\": 0.05}, \"xaxis\": {\"automargin\": true, \"gridcolor\": \"white\", \"linecolor\": \"white\", \"ticks\": \"\", \"title\": {\"standoff\": 15}, \"zerolinecolor\": \"white\", \"zerolinewidth\": 2}, \"yaxis\": {\"automargin\": true, \"gridcolor\": \"white\", \"linecolor\": \"white\", \"ticks\": \"\", \"title\": {\"standoff\": 15}, \"zerolinecolor\": \"white\", \"zerolinewidth\": 2}}}},\n",
              "                        {\"responsive\": true}\n",
              "                    ).then(function(){\n",
              "                            \n",
              "var gd = document.getElementById('2cac4821-1ad2-4b88-894d-771b17f4c6df');\n",
              "var x = new MutationObserver(function (mutations, observer) {{\n",
              "        var display = window.getComputedStyle(gd).display;\n",
              "        if (!display || display === 'none') {{\n",
              "            console.log([gd, 'removed!']);\n",
              "            Plotly.purge(gd);\n",
              "            observer.disconnect();\n",
              "        }}\n",
              "}});\n",
              "\n",
              "// Listen for the removal of the full notebook cells\n",
              "var notebookContainer = gd.closest('#notebook-container');\n",
              "if (notebookContainer) {{\n",
              "    x.observe(notebookContainer, {childList: true});\n",
              "}}\n",
              "\n",
              "// Listen for the clearing of the current output cell\n",
              "var outputEl = gd.closest('.output');\n",
              "if (outputEl) {{\n",
              "    x.observe(outputEl, {childList: true});\n",
              "}}\n",
              "\n",
              "                        })\n",
              "                };\n",
              "                \n",
              "            </script>\n",
              "        </div>\n",
              "</body>\n",
              "</html>"
            ]
          },
          "metadata": {
            "tags": []
          }
        }
      ]
    },
    {
      "cell_type": "markdown",
      "metadata": {
        "id": "A0kMFaaoKumm",
        "colab_type": "text"
      },
      "source": [
        "### 1. Choose your target. Which column in your tabular dataset will you predict?\n",
        "\n",
        " - It is a bit difficult to express the exact column that I will be choosing for my target becuase my data set is still a work in progress. I'm addition additional columns as the days proceed because my data comes form  a big economic bank.\n",
        " - If I had to choose from this df...\n",
        "    - df['Current_Account_Deficit_Including_Estimated_Non_Monetary_Bullion_Flows_in_the_UK_in_mili']\n"
      ]
    },
    {
      "cell_type": "markdown",
      "metadata": {
        "id": "8sDGQFI4L5YU",
        "colab_type": "text"
      },
      "source": [
        "### 2. Is your problem regression or classification?\n",
        "- regression"
      ]
    },
    {
      "cell_type": "markdown",
      "metadata": {
        "id": "L00vttd6L_Rc",
        "colab_type": "text"
      },
      "source": [
        "### 3.  How is your target distributed?\n",
        "- Is the target right-skewed? If so, you may want to log transform the target.\n",
        " - Looks like a normal distribution.\n",
        " - But if I had to choose it is right skewed."
      ]
    },
    {
      "cell_type": "code",
      "metadata": {
        "id": "r2bgPnrLL-hU",
        "colab_type": "code",
        "outputId": "a2d22d15-c00b-49a1-9a05-a72adbfc19c4",
        "colab": {
          "base_uri": "https://localhost:8080/",
          "height": 542
        }
      },
      "source": [
        "# target distribution\n",
        "fig = px.histogram(df, x='Current_Account_Deficit_Including_Estimated_Non_Monetary_Bullion_Flows_in_the_UK_in_mili')\n",
        "fig.show()"
      ],
      "execution_count": 0,
      "outputs": [
        {
          "output_type": "display_data",
          "data": {
            "text/html": [
              "<html>\n",
              "<head><meta charset=\"utf-8\" /></head>\n",
              "<body>\n",
              "    <div>\n",
              "            <script src=\"https://cdnjs.cloudflare.com/ajax/libs/mathjax/2.7.5/MathJax.js?config=TeX-AMS-MML_SVG\"></script><script type=\"text/javascript\">if (window.MathJax) {MathJax.Hub.Config({SVG: {font: \"STIX-Web\"}});}</script>\n",
              "                <script type=\"text/javascript\">window.PlotlyConfig = {MathJaxConfig: 'local'};</script>\n",
              "        <script src=\"https://cdn.plot.ly/plotly-latest.min.js\"></script>    \n",
              "            <div id=\"fd430c77-edf4-403e-98fe-363bf3b80fb5\" class=\"plotly-graph-div\" style=\"height:525px; width:100%;\"></div>\n",
              "            <script type=\"text/javascript\">\n",
              "                \n",
              "                    window.PLOTLYENV=window.PLOTLYENV || {};\n",
              "                    \n",
              "                if (document.getElementById(\"fd430c77-edf4-403e-98fe-363bf3b80fb5\")) {\n",
              "                    Plotly.newPlot(\n",
              "                        'fd430c77-edf4-403e-98fe-363bf3b80fb5',\n",
              "                        [{\"alignmentgroup\": \"True\", \"bingroup\": \"x\", \"hoverlabel\": {\"namelength\": 0}, \"hovertemplate\": \"Current_Account_Deficit_Including_Estimated_Non_Monetary_Bullion_Flows_in_the_UK_in_mili=%{x}<br>count=%{y}\", \"legendgroup\": \"\", \"marker\": {\"color\": \"#636efa\"}, \"name\": \"\", \"offsetgroup\": \"\", \"orientation\": \"v\", \"showlegend\": false, \"type\": \"histogram\", \"x\": [null, null, null, null, null, null, null, null, null, null, null, null, null, null, null, null, null, null, null, null, null, null, null, null, null, null, null, null, null, null, null, null, null, null, null, null, null, null, null, null, null, null, null, null, null, null, null, null, null, null, null, null, null, null, null, null, null, null, null, null, null, null, null, null, null, null, null, null, null, null, null, null, null, null, null, null, null, null, null, null, null, null, null, null, null, null, null, null, null, null, null, null, null, null, null, null, null, null, null, null, null, null, null, null, null, null, null, null, null, null, null, null, null, null, null, null, null, null, null, null, null, null, null, null, null, null, null, null, null, null, null, null, 1.3, 0.8, 1.4, 2.3, 1.0, 0.4, 0.7, 0.4, -0.3, 0.4, 0.6, 2.5, 2.4, 1.7, 1.6, -0.5, 0.3, 0.5, 1.9, 1.7, 1.8, 0.9, 1.0, 2.3, 2.8, 2.9, 3.6, 4.4, 2.7, 1.6, 1.3, 2.8, 2.4, 3.5, 3.3, 4.1, 3.5, 4.3, 4.5, 6.6, 7.5, 6.0, 5.2, 4.0, 1.9, 0.7, 1.1, 3.3, 2.2, 4.8, 4.4, 3.5, 5.3, 4.7, 5.9, 6.2, 6.6, 5.5, 6.7, 4.7, 4.3, 3.6, 2.8, 3.3, 3.1, 2.4, 1.3, 2.5, 1.3, 1.0, 0.8, 2.1, 2.7, 4.3, 5.6, 7.4, 7.6, 6.5, 7.7, 9.1, 8.5, 9.3, 4.1, -1.7, 2.8, 0.6, -4.8, -0.2, 6.7, 3.8, 4.6, 4.4, 2.0, 1.5, -0.7, 2.0, 3.0, 2.2, 0.6, -2.3, -1.8, -0.8, -2.6, 0.7, -0.9, -0.1, -3.8, 0.1, -9.2, -9.3, -6.6, -5.2, -7.3, -8.8, -1.6, -2.9, 0.7, 0.3, 2.6, -2.3, 1.4, 1.2, 0.9, -0.6, 1.2, 1.2, 1.6, 0.7, -0.8, 0.2, 0.6, 0.5, -1.0, -0.2, 0.3, -0.7, -0.7, 0.8, 1.3, 1.6, 0.0, -1.5, -3.8, -1.6, -0.9, -0.3, 0.3, -0.6, 0.5, 1.5, 0.6, 0.2, -0.5, -0.3, -1.0, -1.6, -3.6, -4.1, -3.1, -1.3, -1.5, -1.3, -0.5, -0.7, -0.6, -0.2, -0.4, -2.4, -2.1, -1.9, -2.0, -1.7, -1.8, -1.2, -2.2, -2.4, -3.5, -3.0, -2.7, -1.8, -3.7, -4.4, -4.7, -4.3, -4.4], \"xaxis\": \"x\", \"yaxis\": \"y\"}],\n",
              "                        {\"barmode\": \"relative\", \"legend\": {\"tracegroupgap\": 0}, \"margin\": {\"t\": 60}, \"template\": {\"data\": {\"bar\": [{\"error_x\": {\"color\": \"#2a3f5f\"}, \"error_y\": {\"color\": \"#2a3f5f\"}, \"marker\": {\"line\": {\"color\": \"#E5ECF6\", \"width\": 0.5}}, \"type\": \"bar\"}], \"barpolar\": [{\"marker\": {\"line\": {\"color\": \"#E5ECF6\", \"width\": 0.5}}, \"type\": \"barpolar\"}], \"carpet\": [{\"aaxis\": {\"endlinecolor\": \"#2a3f5f\", \"gridcolor\": \"white\", \"linecolor\": \"white\", \"minorgridcolor\": \"white\", \"startlinecolor\": \"#2a3f5f\"}, \"baxis\": {\"endlinecolor\": \"#2a3f5f\", \"gridcolor\": \"white\", \"linecolor\": \"white\", \"minorgridcolor\": \"white\", \"startlinecolor\": \"#2a3f5f\"}, \"type\": \"carpet\"}], \"choropleth\": [{\"colorbar\": {\"outlinewidth\": 0, \"ticks\": \"\"}, \"type\": \"choropleth\"}], \"contour\": [{\"colorbar\": {\"outlinewidth\": 0, \"ticks\": \"\"}, \"colorscale\": [[0.0, \"#0d0887\"], [0.1111111111111111, \"#46039f\"], [0.2222222222222222, \"#7201a8\"], [0.3333333333333333, \"#9c179e\"], [0.4444444444444444, \"#bd3786\"], [0.5555555555555556, \"#d8576b\"], [0.6666666666666666, \"#ed7953\"], [0.7777777777777778, \"#fb9f3a\"], [0.8888888888888888, \"#fdca26\"], [1.0, \"#f0f921\"]], \"type\": \"contour\"}], \"contourcarpet\": [{\"colorbar\": {\"outlinewidth\": 0, \"ticks\": \"\"}, \"type\": \"contourcarpet\"}], \"heatmap\": [{\"colorbar\": {\"outlinewidth\": 0, \"ticks\": \"\"}, \"colorscale\": [[0.0, \"#0d0887\"], [0.1111111111111111, \"#46039f\"], [0.2222222222222222, \"#7201a8\"], [0.3333333333333333, \"#9c179e\"], [0.4444444444444444, \"#bd3786\"], [0.5555555555555556, \"#d8576b\"], [0.6666666666666666, \"#ed7953\"], [0.7777777777777778, \"#fb9f3a\"], [0.8888888888888888, \"#fdca26\"], [1.0, \"#f0f921\"]], \"type\": \"heatmap\"}], \"heatmapgl\": [{\"colorbar\": {\"outlinewidth\": 0, \"ticks\": \"\"}, \"colorscale\": [[0.0, \"#0d0887\"], [0.1111111111111111, \"#46039f\"], [0.2222222222222222, \"#7201a8\"], [0.3333333333333333, \"#9c179e\"], [0.4444444444444444, \"#bd3786\"], [0.5555555555555556, \"#d8576b\"], [0.6666666666666666, \"#ed7953\"], [0.7777777777777778, \"#fb9f3a\"], [0.8888888888888888, \"#fdca26\"], [1.0, \"#f0f921\"]], \"type\": \"heatmapgl\"}], \"histogram\": [{\"marker\": {\"colorbar\": {\"outlinewidth\": 0, \"ticks\": \"\"}}, \"type\": \"histogram\"}], \"histogram2d\": [{\"colorbar\": {\"outlinewidth\": 0, \"ticks\": \"\"}, \"colorscale\": [[0.0, \"#0d0887\"], [0.1111111111111111, \"#46039f\"], [0.2222222222222222, \"#7201a8\"], [0.3333333333333333, \"#9c179e\"], [0.4444444444444444, \"#bd3786\"], [0.5555555555555556, \"#d8576b\"], [0.6666666666666666, \"#ed7953\"], [0.7777777777777778, \"#fb9f3a\"], [0.8888888888888888, \"#fdca26\"], [1.0, \"#f0f921\"]], \"type\": \"histogram2d\"}], \"histogram2dcontour\": [{\"colorbar\": {\"outlinewidth\": 0, \"ticks\": \"\"}, \"colorscale\": [[0.0, \"#0d0887\"], [0.1111111111111111, \"#46039f\"], [0.2222222222222222, \"#7201a8\"], [0.3333333333333333, \"#9c179e\"], [0.4444444444444444, \"#bd3786\"], [0.5555555555555556, \"#d8576b\"], [0.6666666666666666, \"#ed7953\"], [0.7777777777777778, \"#fb9f3a\"], [0.8888888888888888, \"#fdca26\"], [1.0, \"#f0f921\"]], \"type\": \"histogram2dcontour\"}], \"mesh3d\": [{\"colorbar\": {\"outlinewidth\": 0, \"ticks\": \"\"}, \"type\": \"mesh3d\"}], \"parcoords\": [{\"line\": {\"colorbar\": {\"outlinewidth\": 0, \"ticks\": \"\"}}, \"type\": \"parcoords\"}], \"pie\": [{\"automargin\": true, \"type\": \"pie\"}], \"scatter\": [{\"marker\": {\"colorbar\": {\"outlinewidth\": 0, \"ticks\": \"\"}}, \"type\": \"scatter\"}], \"scatter3d\": [{\"line\": {\"colorbar\": {\"outlinewidth\": 0, \"ticks\": \"\"}}, \"marker\": {\"colorbar\": {\"outlinewidth\": 0, \"ticks\": \"\"}}, \"type\": \"scatter3d\"}], \"scattercarpet\": [{\"marker\": {\"colorbar\": {\"outlinewidth\": 0, \"ticks\": \"\"}}, \"type\": \"scattercarpet\"}], \"scattergeo\": [{\"marker\": {\"colorbar\": {\"outlinewidth\": 0, \"ticks\": \"\"}}, \"type\": \"scattergeo\"}], \"scattergl\": [{\"marker\": {\"colorbar\": {\"outlinewidth\": 0, \"ticks\": \"\"}}, \"type\": \"scattergl\"}], \"scattermapbox\": [{\"marker\": {\"colorbar\": {\"outlinewidth\": 0, \"ticks\": \"\"}}, \"type\": \"scattermapbox\"}], \"scatterpolar\": [{\"marker\": {\"colorbar\": {\"outlinewidth\": 0, \"ticks\": \"\"}}, \"type\": \"scatterpolar\"}], \"scatterpolargl\": [{\"marker\": {\"colorbar\": {\"outlinewidth\": 0, \"ticks\": \"\"}}, \"type\": \"scatterpolargl\"}], \"scatterternary\": [{\"marker\": {\"colorbar\": {\"outlinewidth\": 0, \"ticks\": \"\"}}, \"type\": \"scatterternary\"}], \"surface\": [{\"colorbar\": {\"outlinewidth\": 0, \"ticks\": \"\"}, \"colorscale\": [[0.0, \"#0d0887\"], [0.1111111111111111, \"#46039f\"], [0.2222222222222222, \"#7201a8\"], [0.3333333333333333, \"#9c179e\"], [0.4444444444444444, \"#bd3786\"], [0.5555555555555556, \"#d8576b\"], [0.6666666666666666, \"#ed7953\"], [0.7777777777777778, \"#fb9f3a\"], [0.8888888888888888, \"#fdca26\"], [1.0, \"#f0f921\"]], \"type\": \"surface\"}], \"table\": [{\"cells\": {\"fill\": {\"color\": \"#EBF0F8\"}, \"line\": {\"color\": \"white\"}}, \"header\": {\"fill\": {\"color\": \"#C8D4E3\"}, \"line\": {\"color\": \"white\"}}, \"type\": \"table\"}]}, \"layout\": {\"annotationdefaults\": {\"arrowcolor\": \"#2a3f5f\", \"arrowhead\": 0, \"arrowwidth\": 1}, \"coloraxis\": {\"colorbar\": {\"outlinewidth\": 0, \"ticks\": \"\"}}, \"colorscale\": {\"diverging\": [[0, \"#8e0152\"], [0.1, \"#c51b7d\"], [0.2, \"#de77ae\"], [0.3, \"#f1b6da\"], [0.4, \"#fde0ef\"], [0.5, \"#f7f7f7\"], [0.6, \"#e6f5d0\"], [0.7, \"#b8e186\"], [0.8, \"#7fbc41\"], [0.9, \"#4d9221\"], [1, \"#276419\"]], \"sequential\": [[0.0, \"#0d0887\"], [0.1111111111111111, \"#46039f\"], [0.2222222222222222, \"#7201a8\"], [0.3333333333333333, \"#9c179e\"], [0.4444444444444444, \"#bd3786\"], [0.5555555555555556, \"#d8576b\"], [0.6666666666666666, \"#ed7953\"], [0.7777777777777778, \"#fb9f3a\"], [0.8888888888888888, \"#fdca26\"], [1.0, \"#f0f921\"]], \"sequentialminus\": [[0.0, \"#0d0887\"], [0.1111111111111111, \"#46039f\"], [0.2222222222222222, \"#7201a8\"], [0.3333333333333333, \"#9c179e\"], [0.4444444444444444, \"#bd3786\"], [0.5555555555555556, \"#d8576b\"], [0.6666666666666666, \"#ed7953\"], [0.7777777777777778, \"#fb9f3a\"], [0.8888888888888888, \"#fdca26\"], [1.0, \"#f0f921\"]]}, \"colorway\": [\"#636efa\", \"#EF553B\", \"#00cc96\", \"#ab63fa\", \"#FFA15A\", \"#19d3f3\", \"#FF6692\", \"#B6E880\", \"#FF97FF\", \"#FECB52\"], \"font\": {\"color\": \"#2a3f5f\"}, \"geo\": {\"bgcolor\": \"white\", \"lakecolor\": \"white\", \"landcolor\": \"#E5ECF6\", \"showlakes\": true, \"showland\": true, \"subunitcolor\": \"white\"}, \"hoverlabel\": {\"align\": \"left\"}, \"hovermode\": \"closest\", \"mapbox\": {\"style\": \"light\"}, \"paper_bgcolor\": \"white\", \"plot_bgcolor\": \"#E5ECF6\", \"polar\": {\"angularaxis\": {\"gridcolor\": \"white\", \"linecolor\": \"white\", \"ticks\": \"\"}, \"bgcolor\": \"#E5ECF6\", \"radialaxis\": {\"gridcolor\": \"white\", \"linecolor\": \"white\", \"ticks\": \"\"}}, \"scene\": {\"xaxis\": {\"backgroundcolor\": \"#E5ECF6\", \"gridcolor\": \"white\", \"gridwidth\": 2, \"linecolor\": \"white\", \"showbackground\": true, \"ticks\": \"\", \"zerolinecolor\": \"white\"}, \"yaxis\": {\"backgroundcolor\": \"#E5ECF6\", \"gridcolor\": \"white\", \"gridwidth\": 2, \"linecolor\": \"white\", \"showbackground\": true, \"ticks\": \"\", \"zerolinecolor\": \"white\"}, \"zaxis\": {\"backgroundcolor\": \"#E5ECF6\", \"gridcolor\": \"white\", \"gridwidth\": 2, \"linecolor\": \"white\", \"showbackground\": true, \"ticks\": \"\", \"zerolinecolor\": \"white\"}}, \"shapedefaults\": {\"line\": {\"color\": \"#2a3f5f\"}}, \"ternary\": {\"aaxis\": {\"gridcolor\": \"white\", \"linecolor\": \"white\", \"ticks\": \"\"}, \"baxis\": {\"gridcolor\": \"white\", \"linecolor\": \"white\", \"ticks\": \"\"}, \"bgcolor\": \"#E5ECF6\", \"caxis\": {\"gridcolor\": \"white\", \"linecolor\": \"white\", \"ticks\": \"\"}}, \"title\": {\"x\": 0.05}, \"xaxis\": {\"automargin\": true, \"gridcolor\": \"white\", \"linecolor\": \"white\", \"ticks\": \"\", \"title\": {\"standoff\": 15}, \"zerolinecolor\": \"white\", \"zerolinewidth\": 2}, \"yaxis\": {\"automargin\": true, \"gridcolor\": \"white\", \"linecolor\": \"white\", \"ticks\": \"\", \"title\": {\"standoff\": 15}, \"zerolinecolor\": \"white\", \"zerolinewidth\": 2}}}, \"xaxis\": {\"anchor\": \"y\", \"domain\": [0.0, 1.0], \"title\": {\"text\": \"Current_Account_Deficit_Including_Estimated_Non_Monetary_Bullion_Flows_in_the_UK_in_mili\"}}, \"yaxis\": {\"anchor\": \"x\", \"domain\": [0.0, 1.0], \"title\": {\"text\": \"count\"}}},\n",
              "                        {\"responsive\": true}\n",
              "                    ).then(function(){\n",
              "                            \n",
              "var gd = document.getElementById('fd430c77-edf4-403e-98fe-363bf3b80fb5');\n",
              "var x = new MutationObserver(function (mutations, observer) {{\n",
              "        var display = window.getComputedStyle(gd).display;\n",
              "        if (!display || display === 'none') {{\n",
              "            console.log([gd, 'removed!']);\n",
              "            Plotly.purge(gd);\n",
              "            observer.disconnect();\n",
              "        }}\n",
              "}});\n",
              "\n",
              "// Listen for the removal of the full notebook cells\n",
              "var notebookContainer = gd.closest('#notebook-container');\n",
              "if (notebookContainer) {{\n",
              "    x.observe(notebookContainer, {childList: true});\n",
              "}}\n",
              "\n",
              "// Listen for the clearing of the current output cell\n",
              "var outputEl = gd.closest('.output');\n",
              "if (outputEl) {{\n",
              "    x.observe(outputEl, {childList: true});\n",
              "}}\n",
              "\n",
              "                        })\n",
              "                };\n",
              "                \n",
              "            </script>\n",
              "        </div>\n",
              "</body>\n",
              "</html>"
            ]
          },
          "metadata": {
            "tags": []
          }
        }
      ]
    },
    {
      "cell_type": "markdown",
      "metadata": {
        "id": "IQjTN4XVNape",
        "colab_type": "text"
      },
      "source": [
        "### 4. Choose your evaluation metric(s).\n",
        "  - Regression: Will you use mean absolute error, root mean squared error, R^2, or other regression metrics?"
      ]
    },
    {
      "cell_type": "markdown",
      "metadata": {
        "id": "4YydXpHhNqB_",
        "colab_type": "text"
      },
      "source": [
        "### 5. Choose which observations you will use to train, validate, and test your model?\n",
        "  - Will you do a random split or a time-based split?\n",
        "    - Yes. In addition, I will be engineering features locally via a wrangle function."
      ]
    },
    {
      "cell_type": "markdown",
      "metadata": {
        "id": "DSMbpQtuOGs6",
        "colab_type": "text"
      },
      "source": [
        "### 6. Begin to choose which features, if any, to exclude. Would some features \"leak\" future information?\n",
        "  - There should not be any features that \"leak\""
      ]
    }
  ]
}